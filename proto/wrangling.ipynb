{
 "metadata": {
  "language_info": {
   "codemirror_mode": {
    "name": "ipython",
    "version": 3
   },
   "file_extension": ".py",
   "mimetype": "text/x-python",
   "name": "python",
   "nbconvert_exporter": "python",
   "pygments_lexer": "ipython3",
   "version": "3.8.5"
  },
  "orig_nbformat": 2,
  "kernelspec": {
   "name": "python3",
   "display_name": "Python 3.8.5 64-bit"
  },
  "metadata": {
   "interpreter": {
    "hash": "31f2aee4e71d21fbe5cf8b01ff0e069b9275f58929596ceb00d14d90e3e16cd6"
   }
  },
  "interpreter": {
   "hash": "31f2aee4e71d21fbe5cf8b01ff0e069b9275f58929596ceb00d14d90e3e16cd6"
  }
 },
 "nbformat": 4,
 "nbformat_minor": 2,
 "cells": [
  {
   "cell_type": "code",
   "execution_count": 1,
   "metadata": {},
   "outputs": [],
   "source": [
    "import networkx as nx\n",
    "import osmnx as ox\n",
    "\n",
    "ox.config(use_cache=True, log_console=True)\n",
    "\n",
    "# G = ox.graph_from_bbox(-3.68,40.43,-3.67,40.44, network_type=\"drive\")\n",
    "# G = ox.graph_from_point((-3.68,40.431), dist=100, network_type=\"drive\")\n",
    "\n",
    "G = ox.graph_from_xml(\"map.osm\")\n",
    "G_save=G"
   ]
  },
  {
   "source": [
    "# Remove edges"
   ],
   "cell_type": "markdown",
   "metadata": {}
  },
  {
   "cell_type": "code",
   "execution_count": 2,
   "metadata": {},
   "outputs": [],
   "source": [
    "highway_include = {'motorway', 'trunk', 'primary', 'secondary', 'tertiary', 'unclassified', 'residential',\n",
    "    'motorway_link', 'trunk_link', 'primary_link', 'secondary_link', 'tertiary_link', 'living_street', 'service', 'road'}\n",
    "highway_exclude  = {'footway', 'cycleway', 'pedestrian'}"
   ]
  },
  {
   "cell_type": "code",
   "execution_count": 3,
   "metadata": {},
   "outputs": [],
   "source": [
    "edges_to_remove = [(s,d) for s,d,meta in G.edges.data() if 'highway' not in meta] \n",
    "G.remove_edges_from(edges_to_remove)\n",
    "# Twice to deal with bidirectional links\n",
    "edges_to_remove = [(s,d) for s,d,meta in G.edges.data() if 'highway' not in meta] \n",
    "G.remove_edges_from(edges_to_remove)\n",
    "edges_to_remove = [(s,d) for s,d,meta in G.edges.data() if 'highway' not in meta] \n",
    "G.remove_edges_from(edges_to_remove)"
   ]
  },
  {
   "cell_type": "code",
   "execution_count": 4,
   "metadata": {},
   "outputs": [],
   "source": [
    "edges_to_remove = [(s,d) for s,d,meta in G.edges.data() if isinstance(meta['highway'], list) and all(hwy not in highway_include for hwy in meta['highway']) ] \n",
    "G.remove_edges_from(edges_to_remove)\n",
    "edges_to_remove = [(s,d) for s,d,meta in G.edges.data() if isinstance(meta['highway'], list) and all(hwy not in highway_include for hwy in meta['highway']) ] \n",
    "G.remove_edges_from(edges_to_remove)\n",
    "edges_to_remove = [(s,d) for s,d,meta in G.edges.data() if isinstance(meta['highway'], list) and all(hwy not in highway_include for hwy in meta['highway']) ] \n",
    "G.remove_edges_from(edges_to_remove)"
   ]
  },
  {
   "cell_type": "code",
   "execution_count": 5,
   "metadata": {},
   "outputs": [],
   "source": [
    "edges_to_remove = [(s,d) for s,d,meta in G.edges.data() if isinstance(meta['highway'], list) and any(hwy in highway_exclude for hwy in meta['highway']) ] \n",
    "G.remove_edges_from(edges_to_remove)\n",
    "edges_to_remove = [(s,d) for s,d,meta in G.edges.data() if isinstance(meta['highway'], list) and any(hwy in highway_exclude for hwy in meta['highway']) ] \n",
    "G.remove_edges_from(edges_to_remove)\n",
    "edges_to_remove = [(s,d) for s,d,meta in G.edges.data() if isinstance(meta['highway'], list) and any(hwy in highway_exclude for hwy in meta['highway']) ] \n",
    "G.remove_edges_from(edges_to_remove)"
   ]
  },
  {
   "cell_type": "code",
   "execution_count": 6,
   "metadata": {},
   "outputs": [],
   "source": [
    "edges_to_remove = [(s,d) for s,d,meta in G.edges.data() if not isinstance(meta['highway'], list) and meta['highway'] not in highway_include] \n",
    "G.remove_edges_from(edges_to_remove)\n",
    "edges_to_remove = [(s,d) for s,d,meta in G.edges.data() if not isinstance(meta['highway'], list) and meta['highway'] not in highway_include] \n",
    "G.remove_edges_from(edges_to_remove)\n",
    "edges_to_remove = [(s,d) for s,d,meta in G.edges.data() if not isinstance(meta['highway'], list) and meta['highway'] not in highway_include] \n",
    "G.remove_edges_from(edges_to_remove)"
   ]
  },
  {
   "source": [
    "for s,d,meta in G.edges.data():\n",
    "    if isinstance(meta['highway'], list):\n",
    "        first = next(filter(lambda hwy: hwy in highway_include, meta['highway']), None)\n",
    "        G[s][d][0]['highway'] = first"
   ],
   "cell_type": "code",
   "metadata": {},
   "execution_count": 7,
   "outputs": []
  },
  {
   "cell_type": "code",
   "execution_count": 8,
   "metadata": {},
   "outputs": [],
   "source": [
    "highway_maxspeed = {'motorway': 120, 'trunk': 80, 'primary': 80, 'secondary': 70, 'tertiary':50, 'unclassified':50, 'residential':30,\n",
    "    'motorway_link':80, 'trunk_link':80, 'primary_link':80, 'secondary_link':70, 'tertiary_link':50, 'living_street':30, 'service':30, 'road':50}"
   ]
  },
  {
   "cell_type": "code",
   "execution_count": 9,
   "metadata": {
    "tags": [
     "outputPrepend"
    ]
   },
   "outputs": [
    {
     "output_type": "stream",
     "name": "stdout",
     "text": [
      "ia', 'highway': 'tertiary', 'length': 28.393, 'geometry': <shapely.geometry.linestring.LineString object at 0x7f6e05741bb0>, 'maxspeed': 50}}\n",
      "{0: {'osmid': 15093310, 'oneway': True, 'highway': 'unclassified', 'length': 13.36, 'maxspeed': 50}}\n",
      "{0: {'osmid': 45756892, 'oneway': True, 'lanes': '4', 'name': 'Calle del Corazón de María', 'highway': 'tertiary', 'length': 29.73, 'maxspeed': 50}}\n",
      "{0: {'osmid': 45756892, 'oneway': True, 'lanes': '4', 'name': 'Calle del Corazón de María', 'highway': 'tertiary', 'length': 12.241, 'maxspeed': 50}}\n",
      "{0: {'osmid': 11477714, 'oneway': True, 'name': 'Calle del Ega', 'highway': 'living_street', 'length': 104.085, 'maxspeed': 30}}\n",
      "{0: {'osmid': 409368396, 'oneway': True, 'name': 'Calle del Genil', 'highway': 'living_street', 'length': 88.21, 'maxspeed': 30}}\n",
      "{0: {'osmid': 44336472, 'oneway': True, 'lanes': '1', 'name': 'Calle de Magallanes', 'highway': 'residential', 'length': 91.252, 'geometry': <shapely.geometry.linestring.LineString object at 0x7f6e057514f0>, 'maxspeed': 30}}\n",
      "{0: {'osmid': 4319325, 'oneway': True, 'lanes': '1', 'name': 'Calle de Cea Bermúdez', 'highway': 'residential', 'length': 18.402, 'geometry': <shapely.geometry.linestring.LineString object at 0x7f6e05756430>, 'maxspeed': 30}}\n",
      "{0: {'osmid': 4319325, 'oneway': True, 'lanes': '1', 'name': 'Calle de Cea Bermúdez', 'highway': 'residential', 'length': 6.202, 'maxspeed': 30}}\n",
      "{0: {'osmid': 4319325, 'oneway': True, 'lanes': '1', 'name': 'Calle de Cea Bermúdez', 'highway': 'residential', 'length': 64.756, 'geometry': <shapely.geometry.linestring.LineString object at 0x7f6e05756280>, 'maxspeed': 30}}\n",
      "{0: {'osmid': 4491033, 'oneway': True, 'name': 'Calle de Cea Bermúdez', 'highway': 'residential', 'length': 27.976, 'geometry': <shapely.geometry.linestring.LineString object at 0x7f6e05756610>, 'maxspeed': 30}}\n",
      "{0: {'osmid': 44335065, 'oneway': True, 'lanes': '2', 'name': 'Calle de Guzmán el Bueno', 'highway': 'tertiary', 'length': 15.922, 'maxspeed': 50}}\n",
      "{0: {'osmid': 78576162, 'oneway': True, 'highway': 'unclassified', 'length': 81.349, 'geometry': <shapely.geometry.linestring.LineString object at 0x7f6e057562b0>, 'maxspeed': 50}}\n",
      "{0: {'osmid': 78576162, 'oneway': True, 'highway': 'unclassified', 'length': 23.317999999999998, 'geometry': <shapely.geometry.linestring.LineString object at 0x7f6e05a887c0>, 'maxspeed': 50}}\n",
      "{0: {'osmid': [238876130, 78576166], 'oneway': True, 'lanes': ['1', '2'], 'highway': 'unclassified', 'length': 105.55300000000001, 'bridge': 'yes', 'geometry': <shapely.geometry.linestring.LineString object at 0x7f6e05872c40>, 'maxspeed': 50}}\n",
      "{0: {'osmid': 44336472, 'oneway': True, 'lanes': '1', 'name': 'Calle de Magallanes', 'highway': 'residential', 'length': 61.058, 'geometry': <shapely.geometry.linestring.LineString object at 0x7f6e056e82e0>, 'maxspeed': 30}}\n",
      "{0: {'osmid': 13025297, 'oneway': True, 'name': 'Calle Herreros de Tejada', 'highway': 'residential', 'length': 38.461, 'geometry': <shapely.geometry.linestring.LineString object at 0x7f6e056e8b20>, 'maxspeed': 30}}\n",
      "{0: {'osmid': 161793151, 'oneway': True, 'lanes': '2', 'name': 'Calle de Arapiles', 'highway': 'residential', 'length': 68.375, 'maxspeed': 30}}\n",
      "{0: {'osmid': 161638119, 'name': 'Calle de Arapiles', 'highway': 'residential', 'junction': 'roundabout', 'oneway': True, 'length': 12.872000000000002, 'geometry': <shapely.geometry.linestring.LineString object at 0x7f6e056e8b50>, 'maxspeed': 30}}\n",
      "{0: {'osmid': 161793152, 'oneway': True, 'lanes': '2', 'name': 'Calle de Arapiles', 'highway': 'residential', 'length': 4.718, 'maxspeed': 30}}\n",
      "{0: {'osmid': 161638119, 'name': 'Calle de Arapiles', 'highway': 'residential', 'junction': 'roundabout', 'oneway': True, 'length': 10.747, 'geometry': <shapely.geometry.linestring.LineString object at 0x7f6e056f02b0>, 'maxspeed': 30}}\n",
      "{0: {'osmid': 161638119, 'name': 'Calle de Arapiles', 'highway': 'residential', 'junction': 'roundabout', 'oneway': True, 'length': 2.02, 'maxspeed': 30}}\n",
      "{0: {'osmid': 78576157, 'oneway': True, 'lanes': '1', 'highway': 'unclassified', 'length': 67.754, 'geometry': <shapely.geometry.linestring.LineString object at 0x7f6e056fc790>, 'maxspeed': 50}}\n",
      "{0: {'osmid': 347767012, 'highway': 'service', 'oneway': False, 'length': 48.078, 'maxspeed': 30}, 1: {'osmid': [41377571, 114536853, 11357087], 'oneway': True, 'lanes': '1', 'name': 'Plaza de Bami', 'highway': 'residential', 'maxspeed': 30, 'length': 60.857000000000006, 'access': 'yes', 'geometry': <shapely.geometry.linestring.LineString object at 0x7f6e056fc760>}}\n",
      "{0: {'osmid': 24791395, 'oneway': True, 'lanes': '1', 'name': 'Calle de las Virtudes', 'highway': 'residential', 'length': 5.606, 'geometry': <shapely.geometry.linestring.LineString object at 0x7f6e056fcfd0>, 'maxspeed': 30}}\n",
      "{0: {'osmid': 14463217, 'oneway': True, 'name': 'Calle del Marqués de Riscal', 'highway': 'residential', 'length': 78.659, 'maxspeed': 30}}\n",
      "{0: {'osmid': 684939777, 'highway': 'service', 'oneway': False, 'length': 62.955000000000005, 'geometry': <shapely.geometry.linestring.LineString object at 0x7f6e05716430>, 'maxspeed': 30}}\n",
      "{0: {'osmid': 684939777, 'highway': 'service', 'oneway': False, 'length': 62.955, 'geometry': <shapely.geometry.linestring.LineString object at 0x7f6e05716b50>, 'maxspeed': 30}}\n",
      "{0: {'osmid': 13025493, 'oneway': True, 'name': 'Calle de Trueba Fernández', 'highway': 'residential', 'length': 66.678, 'maxspeed': 30}}\n",
      "{0: {'osmid': 15230945, 'oneway': False, 'lanes': '2', 'name': 'Paseo de Juan XXIII', 'highway': 'residential', 'length': 15.14, 'maxspeed': 30}}\n",
      "{0: {'osmid': 15230946, 'oneway': False, 'name': 'Paseo de Juan XXIII', 'highway': 'residential', 'length': 23.926, 'maxspeed': 30}}\n",
      "{0: {'osmid': 15230945, 'oneway': False, 'lanes': '2', 'name': 'Paseo de Juan XXIII', 'highway': 'residential', 'length': 42.253, 'maxspeed': 30}}\n",
      "{0: {'osmid': 15230945, 'oneway': False, 'lanes': '2', 'name': 'Paseo de Juan XXIII', 'highway': 'residential', 'length': 12.897, 'maxspeed': 30}}\n",
      "{0: {'osmid': 15230904, 'name': 'Calle de Santiago Rusiñol', 'highway': 'residential', 'oneway': False, 'length': 219.55300000000003, 'geometry': <shapely.geometry.linestring.LineString object at 0x7f6e056a6ee0>, 'maxspeed': 30}}\n",
      "{0: {'osmid': 15230948, 'oneway': True, 'name': 'Calle del Conde de la Cimera', 'highway': 'residential', 'length': 98.66399999999999, 'geometry': <shapely.geometry.linestring.LineString object at 0x7f6e056aed00>, 'maxspeed': 30}}\n",
      "{0: {'osmid': 347767012, 'highway': 'service', 'oneway': False, 'length': 48.078, 'maxspeed': 30}}\n",
      "{0: {'osmid': 28556660, 'name': 'Avenida de Baviera', 'highway': 'residential', 'oneway': False, 'length': 44.184, 'maxspeed': 30}}\n",
      "{0: {'osmid': 28556660, 'name': 'Avenida de Baviera', 'highway': 'residential', 'oneway': False, 'length': 50.554, 'maxspeed': 30}}\n",
      "{0: {'osmid': [15208876, 828819164], 'oneway': True, 'name': ['Avenida de Baviera', 'Avenida de Brasilia'], 'highway': 'residential', 'length': 139.41500000000002, 'lanes': '2', 'geometry': <shapely.geometry.linestring.LineString object at 0x7f6e056b5730>, 'maxspeed': 30}}\n",
      "{0: {'osmid': 24222380, 'oneway': True, 'lanes': '1', 'name': 'Calle de Juan de Austria', 'highway': 'residential', 'length': 105.368, 'geometry': <shapely.geometry.linestring.LineString object at 0x7f6e056c7760>, 'maxspeed': 30}}\n",
      "{0: {'osmid': 8029934, 'oneway': True, 'name': 'Calle de Viriato', 'highway': 'residential', 'length': 64.667, 'maxspeed': 30}}\n",
      "{0: {'osmid': 8031768, 'name': 'Calle de Arapiles', 'highway': 'residential', 'oneway': False, 'length': 73.951, 'geometry': <shapely.geometry.linestring.LineString object at 0x7f6e056c7a00>, 'maxspeed': 30}}\n",
      "{0: {'osmid': 27173716, 'oneway': False, 'lanes': '2', 'name': 'Calle de Magallanes', 'highway': 'residential', 'length': 74.864, 'geometry': <shapely.geometry.linestring.LineString object at 0x7f6e056c7ac0>, 'maxspeed': 30}}\n",
      "{0: {'osmid': 27464019, 'oneway': True, 'name': 'Calle de Magallanes', 'highway': 'residential', 'length': 40.366, 'geometry': <shapely.geometry.linestring.LineString object at 0x7f6e056c7550>, 'maxspeed': 30}}\n",
      "{0: {'osmid': 27926842, 'oneway': True, 'name': 'Calle de Arapiles', 'highway': 'residential', 'length': 24.458, 'maxspeed': 30}}\n",
      "{0: {'osmid': 8029934, 'oneway': True, 'name': 'Calle de Viriato', 'highway': 'residential', 'length': 129.654, 'geometry': <shapely.geometry.linestring.LineString object at 0x7f6e056cf610>, 'maxspeed': 30}}\n",
      "{0: {'osmid': 8029934, 'oneway': True, 'name': 'Calle de Viriato', 'highway': 'residential', 'length': 145.56, 'maxspeed': 30}}\n",
      "{0: {'osmid': 8029920, 'oneway': True, 'name': 'Calle de Fernández de la Hoz', 'highway': 'residential', 'length': 118.322, 'maxspeed': 30}}\n",
      "{0: {'osmid': 868615044, 'oneway': True, 'name': 'Calle de Fernández de la Hoz', 'highway': 'residential', 'length': 76.461, 'geometry': <shapely.geometry.linestring.LineString object at 0x7f6e056cfa00>, 'maxspeed': 30}}\n",
      "{0: {'osmid': 15106832, 'name': 'Calle Luis Calvo', 'highway': 'residential', 'oneway': False, 'length': 27.939, 'maxspeed': 30}}\n",
      "{0: {'osmid': 15106832, 'name': 'Calle Luis Calvo', 'highway': 'residential', 'oneway': False, 'length': 37.291, 'geometry': <shapely.geometry.linestring.LineString object at 0x7f6e056cff40>, 'maxspeed': 30}}\n",
      "{0: {'osmid': 302644186, 'oneway': True, 'lanes': '1', 'name': 'Calle de Sagunto', 'highway': 'residential', 'length': 59.539, 'maxspeed': 30}}\n",
      "{0: {'osmid': 24222380, 'oneway': True, 'lanes': '1', 'name': 'Calle de Juan de Austria', 'highway': 'residential', 'length': 63.881, 'geometry': <shapely.geometry.linestring.LineString object at 0x7f6e056d46d0>, 'maxspeed': 30}}\n",
      "{0: {'osmid': 27173565, 'oneway': False, 'name': 'Calle de Santa Feliciana', 'highway': 'residential', 'length': 59.504, 'maxspeed': 30}}\n",
      "{0: {'osmid': 24222380, 'oneway': True, 'lanes': '1', 'name': 'Calle de Juan de Austria', 'highway': 'residential', 'length': 62.072, 'geometry': <shapely.geometry.linestring.LineString object at 0x7f6e056d45b0>, 'maxspeed': 30}}\n",
      "{0: {'osmid': 27173565, 'oneway': False, 'name': 'Calle de Santa Feliciana', 'highway': 'residential', 'length': 80.59, 'geometry': <shapely.geometry.linestring.LineString object at 0x7f6e056d40d0>, 'maxspeed': 30}}\n",
      "{0: {'osmid': 195664263, 'oneway': True, 'name': 'Calle de Raimundo Lulio', 'highway': 'residential', 'length': 59.13, 'maxspeed': 30}}\n",
      "{0: {'osmid': 24222380, 'oneway': True, 'lanes': '1', 'name': 'Calle de Juan de Austria', 'highway': 'residential', 'length': 111.17099999999999, 'geometry': <shapely.geometry.linestring.LineString object at 0x7f6e056d4790>, 'maxspeed': 30}}\n",
      "{0: {'osmid': 7732165, 'oneway': True, 'name': 'Calle Bretón de los Herreros', 'highway': 'residential', 'length': 117.09, 'maxspeed': 30}}\n",
      "{0: {'osmid': 7732165, 'oneway': True, 'name': 'Calle Bretón de los Herreros', 'highway': 'residential', 'length': 54.246, 'geometry': <shapely.geometry.linestring.LineString object at 0x7f6e056d4cd0>, 'maxspeed': 30}}\n",
      "{0: {'osmid': 8572145, 'oneway': True, 'name': 'Calle de Vargas', 'highway': 'residential', 'length': 132.476, 'geometry': <shapely.geometry.linestring.LineString object at 0x7f6e062bcb50>, 'maxspeed': 30}}\n",
      "{0: {'osmid': 7732165, 'oneway': True, 'name': 'Calle Bretón de los Herreros', 'highway': 'residential', 'length': 76.022, 'maxspeed': 30}}\n",
      "{0: {'osmid': 7732165, 'oneway': True, 'name': 'Calle Bretón de los Herreros', 'highway': 'residential', 'length': 127.475, 'geometry': <shapely.geometry.linestring.LineString object at 0x7f6e06101580>, 'maxspeed': 30}}\n",
      "{0: {'osmid': 7732165, 'oneway': True, 'name': 'Calle Bretón de los Herreros', 'highway': 'residential', 'length': 147.3, 'maxspeed': 30}}\n",
      "{0: {'osmid': 868615044, 'oneway': True, 'name': 'Calle de Fernández de la Hoz', 'highway': 'residential', 'length': 122.982, 'maxspeed': 30}}\n",
      "{0: {'osmid': 8572147, 'name': 'Calle de Málaga', 'highway': 'residential', 'oneway': False, 'length': 140.974, 'maxspeed': 30}}\n",
      "{0: {'osmid': 868615044, 'oneway': True, 'name': 'Calle de Fernández de la Hoz', 'highway': 'residential', 'length': 54.909, 'maxspeed': 30}}\n",
      "{0: {'osmid': 868615044, 'oneway': True, 'name': 'Calle de Fernández de la Hoz', 'highway': 'residential', 'length': 67.891, 'maxspeed': 30}}\n",
      "{0: {'osmid': 270499515, 'name': 'Plaza de Burdeos', 'highway': 'residential', 'oneway': False, 'length': 42.802, 'maxspeed': 30}}\n",
      "{0: {'osmid': [270499516, 275372612], 'name': 'Plaza de Burdeos', 'highway': 'residential', 'oneway': False, 'length': 45.87200000000001, 'geometry': <shapely.geometry.linestring.LineString object at 0x7f6e0565eeb0>, 'maxspeed': 30}}\n",
      "{0: {'osmid': 15107626, 'oneway': True, 'name': 'Calle de Bayona', 'highway': 'residential', 'length': 74.019, 'maxspeed': 30}}\n",
      "{0: {'osmid': 270499500, 'oneway': False, 'name': 'Calle Bremen', 'highway': 'residential', 'length': 55.396, 'maxspeed': 30}}\n",
      "{0: {'osmid': 270499500, 'oneway': False, 'name': 'Calle Bremen', 'highway': 'residential', 'length': 5.854, 'maxspeed': 30}}\n",
      "{0: {'osmid': 270499500, 'oneway': False, 'name': 'Calle Bremen', 'highway': 'residential', 'length': 55.396, 'maxspeed': 30}}\n",
      "{0: {'osmid': 11101717, 'oneway': True, 'name': 'Calle del Castillo', 'highway': 'residential', 'length': 105.169, 'geometry': <shapely.geometry.linestring.LineString object at 0x7f6e0566cb80>, 'maxspeed': 30}}\n",
      "{0: {'osmid': 302644186, 'oneway': True, 'lanes': '1', 'name': 'Calle de Sagunto', 'highway': 'residential', 'length': 64.288, 'geometry': <shapely.geometry.linestring.LineString object at 0x7f6e0566cbe0>, 'maxspeed': 30}}\n",
      "{0: {'osmid': 11101717, 'oneway': True, 'name': 'Calle del Castillo', 'highway': 'residential', 'length': 62.556, 'maxspeed': 30}}\n",
      "{0: {'osmid': 27173565, 'oneway': False, 'name': 'Calle de Santa Feliciana', 'highway': 'residential', 'length': 59.504, 'maxspeed': 30}}\n",
      "{0: {'osmid': 27173565, 'oneway': False, 'name': 'Calle de Santa Feliciana', 'highway': 'residential', 'length': 64.8, 'geometry': <shapely.geometry.linestring.LineString object at 0x7f6e0566c2b0>, 'maxspeed': 30}}\n",
      "{0: {'osmid': 11101717, 'oneway': True, 'name': 'Calle del Castillo', 'highway': 'residential', 'length': 63.372, 'maxspeed': 30}}\n",
      "{0: {'osmid': 195664263, 'oneway': True, 'name': 'Calle de Raimundo Lulio', 'highway': 'residential', 'length': 65.346, 'geometry': <shapely.geometry.linestring.LineString object at 0x7f6e0566cd30>, 'maxspeed': 30}}\n",
      "{0: {'osmid': 8029920, 'oneway': True, 'name': 'Calle de Fernández de la Hoz', 'highway': 'residential', 'length': 55.869, 'maxspeed': 30}}\n",
      "{0: {'osmid': 511262703, 'name': 'Plaza del Marqués de Comillas', 'highway': 'residential', 'junction': 'roundabout', 'oneway': True, 'length': 2.094, 'maxspeed': 30}}\n",
      "{0: {'osmid': 32029079, 'oneway': True, 'name': 'Plaza del Marqués de Comillas', 'highway': 'residential', 'length': 35.986000000000004, 'geometry': <shapely.geometry.linestring.LineString object at 0x7f6e0567d310>, 'maxspeed': 30}}\n",
      "{0: {'osmid': 511262702, 'name': 'Plaza del Marqués de Comillas', 'highway': 'residential', 'junction': 'roundabout', 'oneway': True, 'length': 23.721999999999998, 'geometry': <shapely.geometry.linestring.LineString object at 0x7f6e0567d1c0>, 'maxspeed': 30}}\n",
      "{0: {'osmid': 511262703, 'name': 'Plaza del Marqués de Comillas', 'highway': 'residential', 'junction': 'roundabout', 'oneway': True, 'length': 2.055, 'maxspeed': 30}}\n",
      "{0: {'osmid': 15230928, 'oneway': True, 'name': 'Calle Sierra', 'highway': 'residential', 'length': 130.407, 'geometry': <shapely.geometry.linestring.LineString object at 0x7f6e0567d430>, 'maxspeed': 30}}\n",
      "{0: {'osmid': 511262703, 'name': 'Plaza del Marqués de Comillas', 'highway': 'residential', 'junction': 'roundabout', 'oneway': True, 'length': 7.013999999999999, 'geometry': <shapely.geometry.linestring.LineString object at 0x7f6e0567d4f0>, 'maxspeed': 30}}\n",
      "{0: {'osmid': 236866769, 'highway': 'service', 'access': 'no', 'oneway': False, 'length': 48.01, 'maxspeed': 30}}\n",
      "{0: {'osmid': 236866769, 'highway': 'service', 'access': 'no', 'oneway': False, 'length': 7.839, 'maxspeed': 30}}\n",
      "{0: {'osmid': 236866767, 'highway': 'service', 'oneway': False, 'length': 17.663, 'maxspeed': 30}}\n",
      "{0: {'osmid': 236866770, 'highway': 'service', 'oneway': False, 'length': 7.018, 'maxspeed': 30}}\n",
      "{0: {'osmid': 236866770, 'highway': 'service', 'oneway': False, 'length': 39.403, 'maxspeed': 30}}\n",
      "{0: {'osmid': 236866767, 'highway': 'service', 'oneway': False, 'length': 17.663, 'maxspeed': 30}}\n",
      "{0: {'osmid': 236866773, 'highway': 'service', 'oneway': False, 'length': 5.225, 'maxspeed': 30}}\n",
      "{0: {'osmid': 236866773, 'highway': 'service', 'oneway': False, 'length': 32.742000000000004, 'geometry': <shapely.geometry.linestring.LineString object at 0x7f6e05685280>, 'maxspeed': 30}}\n",
      "{0: {'osmid': 236866773, 'highway': 'service', 'oneway': False, 'length': 8.395, 'maxspeed': 30}}\n",
      "{0: {'osmid': 236866773, 'highway': 'service', 'oneway': False, 'length': 119.92200000000003, 'geometry': <shapely.geometry.linestring.LineString object at 0x7f6e05685100>, 'maxspeed': 30}}\n",
      "{0: {'osmid': 236866773, 'highway': 'service', 'oneway': False, 'length': 32.742000000000004, 'geometry': <shapely.geometry.linestring.LineString object at 0x7f6e056851f0>, 'maxspeed': 30}}\n",
      "{0: {'osmid': 236866769, 'highway': 'service', 'access': 'no', 'oneway': False, 'length': 7.564, 'maxspeed': 30}}\n",
      "{0: {'osmid': 236866769, 'highway': 'service', 'access': 'no', 'oneway': False, 'length': 3.881, 'maxspeed': 30}}\n",
      "{0: {'osmid': 236866770, 'highway': 'service', 'oneway': False, 'length': 39.403, 'maxspeed': 30}}\n",
      "{0: {'osmid': 236866773, 'highway': 'service', 'oneway': False, 'length': 39.803, 'maxspeed': 30}}\n",
      "{0: {'osmid': 236866773, 'highway': 'service', 'oneway': False, 'length': 119.922, 'geometry': <shapely.geometry.linestring.LineString object at 0x7f6e056850d0>, 'maxspeed': 30}}\n",
      "{0: {'osmid': 236866769, 'highway': 'service', 'access': 'no', 'oneway': False, 'length': 4.628, 'maxspeed': 30}}\n",
      "{0: {'osmid': 236866769, 'highway': 'service', 'access': 'no', 'oneway': False, 'length': 41.816, 'geometry': <shapely.geometry.linestring.LineString object at 0x7f6e05685370>, 'maxspeed': 30}}\n",
      "{0: {'osmid': 236866770, 'highway': 'service', 'oneway': False, 'length': 7.018, 'maxspeed': 30}}\n",
      "{0: {'osmid': 236866773, 'highway': 'service', 'oneway': False, 'length': 8.395, 'maxspeed': 30}}\n",
      "{0: {'osmid': 236866773, 'highway': 'service', 'oneway': False, 'length': 39.803, 'maxspeed': 30}}\n",
      "{0: {'osmid': 236866769, 'highway': 'service', 'access': 'no', 'oneway': False, 'length': 7.839, 'maxspeed': 30}}\n",
      "{0: {'osmid': 236866769, 'highway': 'service', 'access': 'no', 'oneway': False, 'length': 7.564, 'maxspeed': 30}}\n",
      "{0: {'osmid': 236866769, 'highway': 'service', 'access': 'no', 'oneway': False, 'length': 5.133, 'maxspeed': 30}}\n",
      "{0: {'osmid': 236866769, 'highway': 'service', 'access': 'no', 'oneway': False, 'length': 4.628, 'maxspeed': 30}}\n",
      "{0: {'osmid': 14587389, 'oneway': True, 'name': 'Calle del Padre Claret', 'highway': 'residential', 'length': 7.992, 'maxspeed': 30}}\n",
      "{0: {'osmid': 13025297, 'oneway': True, 'name': 'Calle Herreros de Tejada', 'highway': 'residential', 'length': 74.27, 'maxspeed': 30}}\n",
      "{0: {'osmid': 13025297, 'oneway': True, 'name': 'Calle Herreros de Tejada', 'highway': 'residential', 'length': 62.268, 'maxspeed': 30}}\n",
      "{0: {'osmid': 13025297, 'oneway': True, 'name': 'Calle Herreros de Tejada', 'highway': 'residential', 'length': 76.066, 'geometry': <shapely.geometry.linestring.LineString object at 0x7f6e05685d90>, 'maxspeed': 30}}\n",
      "{0: {'osmid': 48503946, 'highway': 'service', 'oneway': False, 'length': 57.474000000000004, 'geometry': <shapely.geometry.linestring.LineString object at 0x7f6e05685b50>, 'maxspeed': 30}}\n",
      "{0: {'osmid': 13029019, 'oneway': True, 'name': 'Plaza República del Salvador', 'highway': 'residential', 'length': 13.113, 'maxspeed': 30}}\n",
      "{0: {'osmid': 13025297, 'oneway': True, 'name': 'Calle Herreros de Tejada', 'highway': 'residential', 'length': 58.926, 'geometry': <shapely.geometry.linestring.LineString object at 0x7f6e05685e50>, 'maxspeed': 30}}\n"
     ]
    }
   ],
   "source": [
    "edges_without_speed = [(s,d) for s,d,meta in G.edges.data() if 'maxspeed' not in meta] \n",
    "for s,d in edges_without_speed:\n",
    "    # if isinstance(G[s][d][0]['highway'], list):\n",
    "    #     G[s][d][0]['maxspeed'] = highway_maxspeed[G[s][d][0]['highway'][0]]\n",
    "    # else:\n",
    "    for i in range(len(G[s][d])):\n",
    "        G[s][d][i]['maxspeed'] = highway_maxspeed[G[s][d][i]['highway']]\n",
    "    print(G[s][d])"
   ]
  },
  {
   "cell_type": "code",
   "execution_count": 10,
   "metadata": {},
   "outputs": [],
   "source": [
    "for s,d,meta in G.edges.data():\n",
    "    if not 'maxspeed' in meta:\n",
    "        print(s,d, meta)"
   ]
  },
  {
   "cell_type": "code",
   "execution_count": null,
   "metadata": {},
   "outputs": [],
   "source": []
  },
  {
   "cell_type": "code",
   "execution_count": 11,
   "metadata": {
    "tags": [
     "outputPrepend"
    ]
   },
   "outputs": [
    {
     "output_type": "stream",
     "name": "stdout",
     "text": [
      "': 40.4309869, 'x': -3.6539062}), (3249010357, {'y': 40.4308605, 'x': -3.657702}), (3249010358, {'y': 40.430863, 'x': -3.6576696}), (8501589719, {'y': 40.4545222, 'x': -3.7074062}), (149026531, {'y': 40.4438663, 'x': -3.6692493}), (3463139959, {'y': 40.4517546, 'x': -3.6934673}), (3463139960, {'y': 40.4517552, 'x': -3.6934832}), (3463139961, {'y': 40.4517578, 'x': -3.6935402}), (3463139962, {'y': 40.451758, 'x': -3.6935553}), (3463139964, {'y': 40.4517593, 'x': -3.6934575}), (8436073517, {'y': 40.4484311, 'x': -3.7044108}), (4185782024, {'y': 40.4396163, 'x': -3.6580579}), (4185782025, {'y': 40.4396163, 'x': -3.6580442}), (3463139966, {'y': 40.4517634, 'x': -3.693564}), (3463139967, {'y': 40.4517648, 'x': -3.6934888}), (8436073520, {'y': 40.4484141, 'x': -3.7040793}), (8436073521, {'y': 40.4484128, 'x': -3.704057}), (8436073528, {'y': 40.4484879, 'x': -3.7040953}), (8436073529, {'y': 40.4484937, 'x': -3.7041993}), (8436073530, {'y': 40.4484204, 'x': -3.7042058}), (8436073531, {'y': 40.4486413, 'x': -3.704188}), (8436073532, {'y': 40.4484611, 'x': -3.704374}), (5003802453, {'y': 40.4353432, 'x': -3.719729}), (98957145, {'y': 40.437033, 'x': -3.7025409}), (98957147, {'y': 40.4368691, 'x': -3.7010791}), (149026652, {'y': 40.4430309, 'x': -3.6674616, 'highway': 'traffic_signals'}), (8436073535, {'y': 40.4484978, 'x': -3.7043711}), (8436073536, {'y': 40.4484878, 'x': -3.7041998}), (3249928036, {'y': 40.4299659, 'x': -3.654529}), (8436073539, {'y': 40.448453, 'x': -3.7042029}), (2803496857, {'y': 40.4400141, 'x': -3.652655}), (2803496858, {'y': 40.4395755, 'x': -3.6535611}), (2803496859, {'y': 40.4394144, 'x': -3.653902}), (2803496860, {'y': 40.4392685, 'x': -3.6541818}), (2803496862, {'y': 40.4390377, 'x': -3.6546587}), (2803496863, {'y': 40.439074, 'x': -3.6545852, 'highway': 'crossing'}), (2803496869, {'y': 40.4389719, 'x': -3.6538665}), (2803496872, {'y': 40.4396899, 'x': -3.6524002}), (3451286530, {'y': 40.4423751, 'x': -3.6926146}), (3451286531, {'y': 40.4423785, 'x': -3.6927746}), (6750041498, {'y': 40.4542101, 'x': -3.7085925}), (27522994, {'y': 40.437168, 'x': -3.7042542, 'highway': 'traffic_signals'}), (6750041499, {'y': 40.4542793, 'x': -3.708491}), (3451286532, {'y': 40.4423915, 'x': -3.6930912}), (2803496885, {'y': 40.4393653, 'x': -3.6521104}), (6750041500, {'y': 40.4542107, 'x': -3.7085068}), (3451286535, {'y': 40.4425256, 'x': -3.6922808}), (3451286536, {'y': 40.4425342, 'x': -3.6927636}), (3451286537, {'y': 40.4425402, 'x': -3.6926016}), (6750041504, {'y': 40.4541953, 'x': -3.7085334}), (3451286538, {'y': 40.4425472, 'x': -3.6930802}), (6750041506, {'y': 40.454338, 'x': -3.7085684}), (6750041507, {'y': 40.4543572, 'x': -3.7085936}), (6750041508, {'y': 40.4544195, 'x': -3.7086751}), (3249928164, {'y': 40.4300036, 'x': -3.6536174}), (6750041509, {'y': 40.4542695, 'x': -3.7089001}), (6750041510, {'y': 40.4542103, 'x': -3.7089621}), (6750041511, {'y': 40.4541552, 'x': -3.7088875}), (3249928212, {'y': 40.4300541, 'x': -3.6545886}), (27523108, {'y': 40.436028, 'x': -3.704288, 'highway': 'traffic_signals'}), (6828849200, {'y': 40.4430309, 'x': -3.6610619}), (2319054900, {'y': 40.4381535, 'x': -3.7199976}), (3249928249, {'y': 40.4300896, 'x': -3.6545929}), (6828849219, {'y': 40.4430472, 'x': -3.6613443}), (6828849220, {'y': 40.4420217, 'x': -3.661181}), (98957378, {'y': 40.4385857, 'x': -3.7026359}), (6828849229, {'y': 40.4415261, 'x': -3.6611775}), (6828849230, {'y': 40.4406878, 'x': -3.6609173}), (6828849231, {'y': 40.4398246, 'x': -3.6609302}), (6828849232, {'y': 40.4398233, 'x': -3.6610321}), (6828849233, {'y': 40.4395487, 'x': -3.6605178}), (6828849234, {'y': 40.4395474, 'x': -3.6609278}), (6828849235, {'y': 40.4395474, 'x': -3.6610323}), (6828849236, {'y': 40.4365404, 'x': -3.6609361}), (6828849237, {'y': 40.4353914, 'x': -3.6608629}), (119797839, {'y': 40.456307, 'x': -3.6780339}), (119797840, {'y': 40.4556834, 'x': -3.6780988}), (3734894716, {'y': 40.4597847, 'x': -3.7191283}), (149026941, {'y': 40.4431114, 'x': -3.6670683, 'highway': 'traffic_signals'}), (149026944, {'y': 40.443375, 'x': -3.6671271, 'highway': 'traffic_signals'}), (3249928363, {'y': 40.4301078, 'x': -3.6554895}), (102199969, {'y': 40.4486253, 'x': -3.6809842}), (3249928390, {'y': 40.4301549, 'x': -3.6537157}), (1339493600, {'y': 40.4417389, 'x': -3.7266603}), (27523275, {'y': 40.4348826, 'x': -3.7043239, 'highway': 'traffic_signals'}), (3249928407, {'y': 40.4301684, 'x': -3.6558055}), (27523292, {'y': 40.4349589, 'x': -3.7056849}), (3249928416, {'y': 40.4301782, 'x': -3.6556276}), (26212606, {'y': 40.4392912, 'x': -3.7123722, 'highway': 'crossing'}), (26212608, {'y': 40.4391776, 'x': -3.7123237}), (26212610, {'y': 40.4390338, 'x': -3.7122851}), (26212611, {'y': 40.4389864, 'x': -3.7111123}), (26212612, {'y': 40.4396449, 'x': -3.7110631}), (26212613, {'y': 40.4395025, 'x': -3.7118202}), (26212614, {'y': 40.4392529, 'x': -3.7122947}), (26212618, {'y': 40.4389305, 'x': -3.7125857}), (26212617, {'y': 40.4392428, 'x': -3.7128296, 'highway': 'crossing'}), (149027084, {'y': 40.4431818, 'x': -3.6666381}), (149027088, {'y': 40.4427934, 'x': -3.6660327, 'highway': 'crossing'}), (149027089, {'y': 40.4425997, 'x': -3.666138}), (26212619, {'y': 40.4391981, 'x': -3.7125244}), (26212622, {'y': 40.4388872, 'x': -3.7104722}), (3976984862, {'y': 40.4553595, 'x': -3.6977071}), (3922721058, {'y': 40.4446139, 'x': -3.7025324}), (3976984867, {'y': 40.4555314, 'x': -3.6974746}), (3976984868, {'y': 40.4555242, 'x': -3.6973322}), (3976984869, {'y': 40.4553452, 'x': -3.6973544}), (3922721065, {'y': 40.4447474, 'x': -3.7027845}), (3922721066, {'y': 40.444775, 'x': -3.7026709}), (3922721060, {'y': 40.4445588, 'x': -3.7024287}), (3976984870, {'y': 40.4553533, 'x': -3.6975033}), (3922721061, {'y': 40.4444948, 'x': -3.702452}), (3976984873, {'y': 40.4553554, 'x': -3.697569}), (3922721073, {'y': 40.4449148, 'x': -3.7028549}), (3922721074, {'y': 40.4449414, 'x': -3.7027456}), (3922721070, {'y': 40.4448004, 'x': -3.7025446}), (3922721069, {'y': 40.444786, 'x': -3.7026036}), (3922721077, {'y': 40.4449566, 'x': -3.7026813}), (3922721082, {'y': 40.4450838, 'x': -3.702934}), (3922721086, {'y': 40.4451248, 'x': -3.7027568}), (3922721087, {'y': 40.4451377, 'x': -3.702706}), (3922721091, {'y': 40.4449694, 'x': -3.7026287}), (3922721096, {'y': 40.4453241, 'x': -3.7026906}), (3922721097, {'y': 40.4452385, 'x': -3.7027029}), (3922721100, {'y': 40.445167, 'x': -3.7026999}), (3922721103, {'y': 40.44511, 'x': -3.702832}), (3922721104, {'y': 40.4453112, 'x': -3.7024457}), (3922721105, {'y': 40.4452151, 'x': -3.702458}), (3922721108, {'y': 40.4451635, 'x': -3.7024626}), (3922721109, {'y': 40.4451264, 'x': -3.7024677}), (3922721118, {'y': 40.4452004, 'x': -3.7022265}), (3922721112, {'y': 40.4451081, 'x': -3.7026742}), (27523422, {'y': 40.4360629, 'x': -3.7055879}), (6185154927, {'y': 40.4356834, 'x': -3.70021}), (6185154930, {'y': 40.4356493, 'x': -3.6999807}), (3249928609, {'y': 40.4303096, 'x': -3.6564088}), (3249928625, {'y': 40.4303341, 'x': -3.6563683}), (8676833733, {'y': 40.4553473, 'x': -3.7098709}), (8676833735, {'y': 40.4556339, 'x': -3.709507}), (8676833737, {'y': 40.455903, 'x': -3.7095616}), (8676833738, {'y': 40.4559438, 'x': -3.7090727}), (8676833747, {'y': 40.4556328, 'x': -3.7093199}), (119798221, {'y': 40.4557321, 'x': -3.6804274}), (8676833742, {'y': 40.4563009, 'x': -3.709123}), (119798223, {'y': 40.4553135, 'x': -3.6816826}), (8676833751, {'y': 40.4565717, 'x': -3.7095474}), (8676833752, {'y': 40.4566625, 'x': -3.7098946}), (3708287454, {'y': 40.4327454, 'x': -3.7070242}), (3708287455, {'y': 40.4328193, 'x': -3.7071314}), (3708287453, {'y': 40.4327342, 'x': -3.7071295}), (8676833766, {'y': 40.4563069, 'x': -3.7093677}), (143804400, {'y': 40.4503096, 'x': -3.6710487}), (6185155070, {'y': 40.4350022, 'x': -3.6992368}), (6185155072, {'y': 40.4350924, 'x': -3.6992152}), (8676833855, {'y': 40.4568594, 'x': -3.7094129}), (3861248606, {'y': 40.4347622, 'x': -3.7000428}), (3861248607, {'y': 40.4349604, 'x': -3.7001172}), (3861248610, {'y': 40.4349952, 'x': -3.7001358}), (3861248611, {'y': 40.4350357, 'x': -3.7001523}), (3861248613, {'y': 40.4350526, 'x': -3.6997458}), (3861248615, {'y': 40.4350252, 'x': -3.6996976}), (3861248620, {'y': 40.4349509, 'x': -3.7002653}), (3861248621, {'y': 40.4350271, 'x': -3.7002989}), (3861248622, {'y': 40.4350609, 'x': -3.700163}), (3861248623, {'y': 40.4349857, 'x': -3.7001327}), (3861248626, {'y': 40.4353074, 'x': -3.7002166}), (3861248627, {'y': 40.4352827, 'x': -3.7002253}), (3861248628, {'y': 40.4352666, 'x': -3.7001805}), (3861248629, {'y': 40.4352467, 'x': -3.7001917}), (3861248632, {'y': 40.4352268, 'x': -3.6999277}), (3861248635, {'y': 40.4350549, 'x': -3.7000163}), (3861248636, {'y': 40.4350513, 'x': -3.700042}), (3861248638, {'y': 40.4351255, 'x': -3.7001442}), (3861248639, {'y': 40.4351796, 'x': -3.699762}), (3861248642, {'y': 40.4350634, 'x': -3.6998055}), (3861248645, {'y': 40.4350774, 'x': -3.6998889}), (3861248650, {'y': 40.4350994, 'x': -3.6999947}), (3861248651, {'y': 40.4351428, 'x': -3.6999701}), (3861248652, {'y': 40.4351728, 'x': -3.6999551}), (4633524911, {'y': 40.4363407, 'x': -3.7100758}), (4633524912, {'y': 40.4363456, 'x': -3.7101382}), (4633524913, {'y': 40.4363622, 'x': -3.7112308}), (150338235, {'y': 40.4419371, 'x': -3.6664003}), (3249928896, {'y': 40.430427, 'x': -3.6541521}), (3249928900, {'y': 40.4304295, 'x': -3.6556791}), (3249928901, {'y': 40.4304301, 'x': -3.6561592}), (3249928909, {'y': 40.4304365, 'x': -3.6555724}), (5802031853, {'y': 40.4382839, 'x': -3.6985001}), (5802031855, {'y': 40.4374568, 'x': -3.6986984}), (5802031856, {'y': 40.4375229, 'x': -3.6986022}), (5802031857, {'y': 40.4375313, 'x': -3.6986787}), (5802031858, {'y': 40.4375266, 'x': -3.6986341, 'highway': 'crossing'}), (5802031859, {'y': 40.4374877, 'x': -3.6986858, 'highway': 'crossing'}), (5802031861, {'y': 40.4382855, 'x': -3.6985964}), (5802031864, {'y': 40.4397209, 'x': -3.7006264}), (5802031865, {'y': 40.439561, 'x': -3.7005812}), (5802031866, {'y': 40.4396201, 'x': -3.7006083}), (5802031870, {'y': 40.4371147, 'x': -3.6993862}), (5802031872, {'y': 40.43712, 'x': -3.6995399}), (5802031869, {'y': 40.4385364, 'x': -3.69943}), (5802031873, {'y': 40.4367279, 'x': -3.6994902, 'highway': 'traffic_signals'}), (5802031878, {'y': 40.4367834, 'x': -3.6993371}), (5802031879, {'y': 40.4366101, 'x': -3.6993127}), (5802031880, {'y': 40.436575, 'x': -3.6995263, 'highway': 'crossing'}), (5802031882, {'y': 40.43667, 'x': -3.6993183}), (5802031889, {'y': 40.4361278, 'x': -3.6990976}), (5802031894, {'y': 40.4360578, 'x': -3.6990724}), (5802031898, {'y': 40.4358322, 'x': -3.6989804}), (5802031899, {'y': 40.4356696, 'x': -3.6989184}), (5802031902, {'y': 40.435729, 'x': -3.6989391}), (8427141926, {'y': 40.4488554, 'x': -3.707352}), (8427141930, {'y': 40.4487521, 'x': -3.7060232}), (8427141931, {'y': 40.4485775, 'x': -3.7060371}), (8427141932, {'y': 40.4486442, 'x': -3.7073755}), (8427141937, {'y': 40.4488604, 'x': -3.7073997, 'highway': 'crossing'}), (8427141938, {'y': 40.4487778, 'x': -3.706018, 'highway': 'crossing'}), (8427141972, {'y': 40.4482877, 'x': -3.7060634}), (8427141974, {'y': 40.4485771, 'x': -3.7073639}), (8427141975, {'y': 40.4486083, 'x': -3.7073711, 'highway': 'crossing'}), (8427141976, {'y': 40.4485172, 'x': -3.7060831}), (8427141977, {'y': 40.4485798, 'x': -3.7060843}), (8427141979, {'y': 40.4490859, 'x': -3.7069603}), (8427141980, {'y': 40.4490818, 'x': -3.7069539}), (8427141981, {'y': 40.4488324, 'x': -3.7065207}), (8427141978, {'y': 40.4485485, 'x': -3.7060832, 'highway': 'crossing'}), (3249929069, {'y': 40.4305067, 'x': -3.6568738}), (6417677196, {'y': 40.4305999, 'x': -3.6898163}), (6417677202, {'y': 40.431146, 'x': -3.6897357}), (3249929124, {'y': 40.4305861, 'x': -3.6569214}), (3249929130, {'y': 40.4305981, 'x': -3.6564376}), (3410361263, {'y': 40.4362191, 'x': -3.7077278}), (3410361264, {'y': 40.4362256, 'x': -3.7079424}), (3410361268, {'y': 40.436566, 'x': -3.7078938}), (3410361265, {'y': 40.4365477, 'x': -3.7076867}), (119798728, {'y': 40.4551831, 'x': -3.6802078}), (119798729, {'y': 40.454504, 'x': -3.6799481}), (150760271, {'y': 40.4468143, 'x': -3.7189883}), (98958321, {'y': 40.4385057, 'x': -3.7010558}), (3256681463, {'y': 40.4269729, 'x': -3.6600986}), (150760278, {'y': 40.4467145, 'x': -3.7181462}), (2191653902, {'y': 40.4538414, 'x': -3.7242176}), (2191653903, {'y': 40.4539307, 'x': -3.7237747}), (2191653905, {'y': 40.4542282, 'x': -3.7234492}), (2191653906, {'y': 40.4539135, 'x': -3.7243945}), (150760281, {'y': 40.4473048, 'x': -3.7175851}), (3249929279, {'y': 40.4306813, 'x': -3.656465}), (3249929302, {'y': 40.4307333, 'x': -3.6557685}), (150760294, {'y': 40.4467123, 'x': -3.7139373, 'highway': 'crossing'}), (3249929339, {'y': 40.430835, 'x': -3.6556808}), (3249929340, {'y': 40.4308582, 'x': -3.6556919}), (3249929341, {'y': 40.4308528, 'x': -3.6542508}), (150338722, {'y': 40.4421841, 'x': -3.6635052}), (150338724, {'y': 40.4429079, 'x': -3.6616872}), (98958620, {'y': 40.4345839, 'x': -3.7002072}), (98958622, {'y': 40.4358548, 'x': -3.7006916}), (60030239, {'y': 40.4332635, 'x': -3.7054877, 'highway': 'traffic_signals'}), (60030240, {'y': 40.4336158, 'x': -3.7044958}), (60030242, {'y': 40.4334256, 'x': -3.7042891, 'highway': 'traffic_signals'}), (60030243, {'y': 40.4335352, 'x': -3.7040116}), (60030246, {'y': 40.4337705, 'x': -3.7043908}), (60030244, {'y': 40.4337225, 'x': -3.7040323, 'highway': 'traffic_signals'}), (60030248, {'y': 40.4349348, 'x': -3.6987187, 'highway': 'traffic_signals'}), (60030251, {'y': 40.4334567, 'x': -3.7040974, 'highway': 'traffic_signals'}), (60030252, {'y': 40.4334932, 'x': -3.7044382}), (60030256, {'y': 40.4384698, 'x': -3.7002381, 'highway': 'traffic_signals'}), (60030257, {'y': 40.4384235, 'x': -3.6993321, 'highway': 'traffic_signals'}), (60030258, {'y': 40.4383471, 'x': -3.6978044, 'highway': 'traffic_signals'}), (60030259, {'y': 40.4382817, 'x': -3.696289}), (60030260, {'y': 40.4366721, 'x': -3.6964164}), (8590458174, {'y': 40.4467596, 'x': -3.7041952}), (8590458177, {'y': 40.4465913, 'x': -3.7039738}), (8590458180, {'y': 40.4466382, 'x': -3.7037344}), (60030277, {'y': 40.436699, 'x': -3.6979437}), (60030278, {'y': 40.4357244, 'x': -3.6980261}), (60030279, {'y': 40.4356499, 'x': -3.6964973}), (60030280, {'y': 40.4366391, 'x': -3.6946902}), (8590458181, {'y': 40.4466795, 'x': -3.7037854}), (60030301, {'y': 40.4381932, 'x': -3.6945588, 'highway': 'traffic_signals'}), (60030302, {'y': 40.4350224, 'x': -3.6965469}), (60030303, {'y': 40.4349787, 'x': -3.6980881}), (3966631280, {'y': 40.4481965, 'x': -3.7072977}), (3966631281, {'y': 40.4482418, 'x': -3.7073241}), (2755132806, {'y': 40.4366832, 'x': -3.6653188}), (98958746, {'y': 40.4336815, 'x': -3.6998273}), (98958747, {'y': 40.4331344, 'x': -3.699597}), (98958748, {'y': 40.4326028, 'x': -3.6993732}), (98958749, {'y': 40.4315222, 'x': -3.6989183}), (5265030580, {'y': 40.4459951, 'x': -3.6919533}), (60030397, {'y': 40.4396024, 'x': -3.6992358}), (60030398, {'y': 40.4395284, 'x': -3.6976996}), (4255514048, {'y': 40.4301886, 'x': -3.7106578}), (60030399, {'y': 40.4383883, 'x': -3.6986283}), (60030402, {'y': 40.4395592, 'x': -3.6983393}), (60030404, {'y': 40.440698, 'x': -3.6991458}), (60030405, {'y': 40.4406262, 'x': -3.6976006}), (60030407, {'y': 40.4394564, 'x': -3.6961963}), (60030408, {'y': 40.4393722, 'x': -3.6944593}), (60030409, {'y': 40.4388794, 'x': -3.6945007}), (60030410, {'y': 40.4404759, 'x': -3.6943656}), (60030406, {'y': 40.4405573, 'x': -3.696109}), (3354787300, {'y': 40.443595, 'x': -3.6754756}), (3354787302, {'y': 40.4436437, 'x': -3.6755435}), (3354787305, {'y': 40.4437027, 'x': -3.6756232}), (3354787306, {'y': 40.4438178, 'x': -3.6754786}), (2755132981, {'y': 40.4380092, 'x': -3.6645236}), (98958915, {'y': 40.4347475, 'x': -3.6995373}), (981728855, {'y': 40.4384733, 'x': -3.6764755}), (981728856, {'y': 40.4390398, 'x': -3.6755183}), (2755133026, {'y': 40.4381663, 'x': -3.6628301}), (6140329592, {'y': 40.4316355, 'x': -3.7009549}), (6140329593, {'y': 40.4316514, 'x': -3.7008898}), (6140329597, {'y': 40.4317936, 'x': -3.7009912}), (6140329598, {'y': 40.4318022, 'x': -3.700956}), (6140329599, {'y': 40.4320129, 'x': -3.7008914}), (3378118272, {'y': 40.4554707, 'x': -3.6563915}), (3378118273, {'y': 40.4556758, 'x': -3.6560146}), (6140329603, {'y': 40.4320346, 'x': -3.7011068}), (6140329608, {'y': 40.4315304, 'x': -3.7008471}), (6140329609, {'y': 40.4315169, 'x': -3.700903}), (6140329614, {'y': 40.431622, 'x': -3.70101}), (6140329615, {'y': 40.4319648, 'x': -3.7008703}), (6140329616, {'y': 40.4318369, 'x': -3.7008141}), (6140329617, {'y': 40.431686, 'x': -3.7007478}), (6140329618, {'y': 40.4319176, 'x': -3.7010654}), (6140329619, {'y': 40.4317881, 'x': -3.7010137}), (6140329623, {'y': 40.4319642, 'x': -3.7010941}), (6140329629, {'y': 40.4315611, 'x': -3.7011562}), (6140329630, {'y': 40.4315517, 'x': -3.7012022}), (6140329632, {'y': 40.4315354, 'x': -3.7012806}), (6140329633, {'y': 40.4316979, 'x': -3.7011244}), (6140329634, {'y': 40.4316546, 'x': -3.7013304}), (2755133094, {'y': 40.4388258, 'x': -3.6638474}), (2755133101, {'y': 40.4390511, 'x': -3.6644312}), (6140329656, {'y': 40.431414, 'x': -3.70106}), (2755133105, {'y': 40.4391828, 'x': -3.6636068}), (6140329658, {'y': 40.4314678, 'x': -3.7010378}), (6140329659, {'y': 40.4314578, 'x': -3.7010793}), (6140329660, {'y': 40.4314204, 'x': -3.7012351}), (6140329661, {'y': 40.4314876, 'x': -3.7009563}), (6140329662, {'y': 40.4313012, 'x': -3.7008813}), (6140329663, {'y': 40.4313365, 'x': -3.7007426}), (6140329664, {'y': 40.4314335, 'x': -3.7007852}), (98959041, {'y': 40.4338468, 'x': -3.6991582}), (98959043, {'y': 40.4333109, 'x': -3.6989333}), (98959044, {'y': 40.4327672, 'x': -3.6987088}), (6140329670, {'y': 40.4319911, 'x': -3.7012972}), (6140329671, {'y': 40.4319782, 'x': -3.7013528}), (6140329673, {'y': 40.4319553, 'x': -3.7014514}), (98959052, {'y': 40.4329801, 'x': -3.6978731}), (6140329677, {'y': 40.4320674, 'x': -3.7012783}), (6140329678, {'y': 40.4320608, 'x': -3.7013038}), (6140329680, {'y': 40.4321059, 'x': -3.7014097}), (6140329684, {'y': 40.4321621, 'x': -3.7011899}), (6140329686, {'y': 40.4320762, 'x': -3.7009192}), (60030727, {'y': 40.4366087, 'x': -3.6930249}), (60030728, {'y': 40.4351098, 'x': -3.6931402, 'highway': 'traffic_signals'}), (60030729, {'y': 40.4350642, 'x': -3.6948234}), (4558946113, {'y': 40.4453148, 'x': -3.7194911}), (4558946114, {'y': 40.4453958, 'x': -3.719423}), (4558946120, {'y': 40.4454356, 'x': -3.7196659}), (4558946122, {'y': 40.4453775, 'x': -3.7194264}), (4558946123, {'y': 40.445325, 'x': -3.7194703}), (3578396508, {'y': 40.4492416, 'x': -3.7165922}), (3578396516, {'y': 40.4494147, 'x': -3.7161327, 'highway': 'crossing'}), (3578396518, {'y': 40.4494495, 'x': -3.7161922}), (2448293750, {'y': 40.4405183, 'x': -3.7182711}), (2448293754, {'y': 40.4417827, 'x': -3.7190642}), (2448293751, {'y': 40.4417803, 'x': -3.7189147}), (2448293752, {'y': 40.441928, 'x': -3.7189915}), (2448293756, {'y': 40.4419915, 'x': -3.7189172}), (2448293758, {'y': 40.4418595, 'x': -3.7192971}), (2448293759, {'y': 40.4417213, 'x': -3.7190794}), (2448293762, {'y': 40.4403845, 'x': -3.7182285}), (2448293763, {'y': 40.4414504, 'x': -3.7187447}), (2448293771, {'y': 40.440265, 'x': -3.718248}), (2448293772, {'y': 40.4417554, 'x': -3.7189909}), (2448293773, {'y': 40.440452, 'x': -3.7182396}), (3578396564, {'y': 40.4497396, 'x': -3.7170636}), (2448293784, {'y': 40.440304, 'x': -3.7182289}), (149159839, {'y': 40.4441172, 'x': -3.6652462}), (119799747, {'y': 40.4546744, 'x': -3.6814275}), (119799748, {'y': 40.4541157, 'x': -3.6814774}), (119799751, {'y': 40.4534333, 'x': -3.6815056}), (119799753, {'y': 40.4529192, 'x': -3.6809683}), (2972057558, {'y': 40.4561363, 'x': -3.7049958}), (2972057564, {'y': 40.4562504, 'x': -3.7048492}), (2972057569, {'y': 40.4561934, 'x': -3.7050883}), (8520335336, {'y': 40.4554732, 'x': -3.7164188}), (8520335338, {'y': 40.457555, 'x': -3.7113958})]\n"
     ]
    }
   ],
   "source": [
    "print(G.nodes.data())"
   ]
  },
  {
   "cell_type": "code",
   "execution_count": 12,
   "metadata": {},
   "outputs": [],
   "source": [
    "import networkx as nx\n",
    "\n",
    "# Generate connected components and select the largest:\n",
    "largest_component = max(nx.weakly_connected_components(G), key=len)\n",
    "\n",
    "# Create a subgraph of G consisting only of this component:\n",
    "G2 = G.subgraph(largest_component)"
   ]
  },
  {
   "cell_type": "code",
   "execution_count": 22,
   "metadata": {},
   "outputs": [],
   "source": [
    "# remove geometry\n",
    "for s,d,_ in G.edges.data():\n",
    "    for i in range(len(G[s][d])):\n",
    "        if 'geometry' in G[s][d][i]:\n",
    "            del G[s][d][i]['geometry']"
   ]
  },
  {
   "cell_type": "code",
   "execution_count": 23,
   "metadata": {},
   "outputs": [
    {
     "output_type": "error",
     "ename": "TypeError",
     "evalue": "cannot unpack non-iterable int object",
     "traceback": [
      "\u001b[0;31m---------------------------------------------------------------------------\u001b[0m",
      "\u001b[0;31mTypeError\u001b[0m                                 Traceback (most recent call last)",
      "\u001b[0;32m<ipython-input-23-922b69ebf134>\u001b[0m in \u001b[0;36m<module>\u001b[0;34m\u001b[0m\n\u001b[0;32m----> 1\u001b[0;31m \u001b[0mnx\u001b[0m\u001b[0;34m.\u001b[0m\u001b[0mwrite_gexf\u001b[0m\u001b[0;34m(\u001b[0m\u001b[0mG\u001b[0m\u001b[0;34m,\u001b[0m \u001b[0;34m\"g2.xml\"\u001b[0m\u001b[0;34m)\u001b[0m\u001b[0;34m\u001b[0m\u001b[0;34m\u001b[0m\u001b[0m\n\u001b[0m",
      "\u001b[0;32m<decorator-gen-810>\u001b[0m in \u001b[0;36mwrite_gexf\u001b[0;34m(G, path, encoding, prettyprint, version)\u001b[0m\n",
      "\u001b[0;32m/usr/local/lib/python3.8/dist-packages/networkx/utils/decorators.py\u001b[0m in \u001b[0;36m_open_file\u001b[0;34m(func_to_be_decorated, *args, **kwargs)\u001b[0m\n\u001b[1;32m    237\u001b[0m         \u001b[0;31m# Finally, we call the original function, making sure to close the fobj\u001b[0m\u001b[0;34m\u001b[0m\u001b[0;34m\u001b[0m\u001b[0;34m\u001b[0m\u001b[0m\n\u001b[1;32m    238\u001b[0m         \u001b[0;32mtry\u001b[0m\u001b[0;34m:\u001b[0m\u001b[0;34m\u001b[0m\u001b[0;34m\u001b[0m\u001b[0m\n\u001b[0;32m--> 239\u001b[0;31m             \u001b[0mresult\u001b[0m \u001b[0;34m=\u001b[0m \u001b[0mfunc_to_be_decorated\u001b[0m\u001b[0;34m(\u001b[0m\u001b[0;34m*\u001b[0m\u001b[0mnew_args\u001b[0m\u001b[0;34m,\u001b[0m \u001b[0;34m**\u001b[0m\u001b[0mkwargs\u001b[0m\u001b[0;34m)\u001b[0m\u001b[0;34m\u001b[0m\u001b[0;34m\u001b[0m\u001b[0m\n\u001b[0m\u001b[1;32m    240\u001b[0m         \u001b[0;32mfinally\u001b[0m\u001b[0;34m:\u001b[0m\u001b[0;34m\u001b[0m\u001b[0;34m\u001b[0m\u001b[0m\n\u001b[1;32m    241\u001b[0m             \u001b[0;32mif\u001b[0m \u001b[0mclose_fobj\u001b[0m\u001b[0;34m:\u001b[0m\u001b[0;34m\u001b[0m\u001b[0;34m\u001b[0m\u001b[0m\n",
      "\u001b[0;32m/usr/local/lib/python3.8/dist-packages/networkx/readwrite/gexf.py\u001b[0m in \u001b[0;36mwrite_gexf\u001b[0;34m(G, path, encoding, prettyprint, version)\u001b[0m\n\u001b[1;32m     78\u001b[0m     \"\"\"\n\u001b[1;32m     79\u001b[0m     \u001b[0mwriter\u001b[0m \u001b[0;34m=\u001b[0m \u001b[0mGEXFWriter\u001b[0m\u001b[0;34m(\u001b[0m\u001b[0mencoding\u001b[0m\u001b[0;34m=\u001b[0m\u001b[0mencoding\u001b[0m\u001b[0;34m,\u001b[0m \u001b[0mprettyprint\u001b[0m\u001b[0;34m=\u001b[0m\u001b[0mprettyprint\u001b[0m\u001b[0;34m,\u001b[0m \u001b[0mversion\u001b[0m\u001b[0;34m=\u001b[0m\u001b[0mversion\u001b[0m\u001b[0;34m)\u001b[0m\u001b[0;34m\u001b[0m\u001b[0;34m\u001b[0m\u001b[0m\n\u001b[0;32m---> 80\u001b[0;31m     \u001b[0mwriter\u001b[0m\u001b[0;34m.\u001b[0m\u001b[0madd_graph\u001b[0m\u001b[0;34m(\u001b[0m\u001b[0mG\u001b[0m\u001b[0;34m)\u001b[0m\u001b[0;34m\u001b[0m\u001b[0;34m\u001b[0m\u001b[0m\n\u001b[0m\u001b[1;32m     81\u001b[0m     \u001b[0mwriter\u001b[0m\u001b[0;34m.\u001b[0m\u001b[0mwrite\u001b[0m\u001b[0;34m(\u001b[0m\u001b[0mpath\u001b[0m\u001b[0;34m)\u001b[0m\u001b[0;34m\u001b[0m\u001b[0;34m\u001b[0m\u001b[0m\n\u001b[1;32m     82\u001b[0m \u001b[0;34m\u001b[0m\u001b[0m\n",
      "\u001b[0;32m/usr/local/lib/python3.8/dist-packages/networkx/readwrite/gexf.py\u001b[0m in \u001b[0;36madd_graph\u001b[0;34m(self, G)\u001b[0m\n\u001b[1;32m    331\u001b[0m         \u001b[0mself\u001b[0m\u001b[0;34m.\u001b[0m\u001b[0mgraph_element\u001b[0m \u001b[0;34m=\u001b[0m \u001b[0mgraph_element\u001b[0m\u001b[0;34m\u001b[0m\u001b[0;34m\u001b[0m\u001b[0m\n\u001b[1;32m    332\u001b[0m         \u001b[0mself\u001b[0m\u001b[0;34m.\u001b[0m\u001b[0madd_nodes\u001b[0m\u001b[0;34m(\u001b[0m\u001b[0mG\u001b[0m\u001b[0;34m,\u001b[0m \u001b[0mgraph_element\u001b[0m\u001b[0;34m)\u001b[0m\u001b[0;34m\u001b[0m\u001b[0;34m\u001b[0m\u001b[0m\n\u001b[0;32m--> 333\u001b[0;31m         \u001b[0mself\u001b[0m\u001b[0;34m.\u001b[0m\u001b[0madd_edges\u001b[0m\u001b[0;34m(\u001b[0m\u001b[0mG\u001b[0m\u001b[0;34m,\u001b[0m \u001b[0mgraph_element\u001b[0m\u001b[0;34m)\u001b[0m\u001b[0;34m\u001b[0m\u001b[0;34m\u001b[0m\u001b[0m\n\u001b[0m\u001b[1;32m    334\u001b[0m         \u001b[0mself\u001b[0m\u001b[0;34m.\u001b[0m\u001b[0mxml\u001b[0m\u001b[0;34m.\u001b[0m\u001b[0mappend\u001b[0m\u001b[0;34m(\u001b[0m\u001b[0mgraph_element\u001b[0m\u001b[0;34m)\u001b[0m\u001b[0;34m\u001b[0m\u001b[0;34m\u001b[0m\u001b[0m\n\u001b[1;32m    335\u001b[0m \u001b[0;34m\u001b[0m\u001b[0m\n",
      "\u001b[0;32m/usr/local/lib/python3.8/dist-packages/networkx/readwrite/gexf.py\u001b[0m in \u001b[0;36madd_edges\u001b[0;34m(self, G, graph_element)\u001b[0m\n\u001b[1;32m    437\u001b[0m                 \u001b[0medge_data\u001b[0m \u001b[0;34m=\u001b[0m \u001b[0mself\u001b[0m\u001b[0;34m.\u001b[0m\u001b[0madd_spells\u001b[0m\u001b[0;34m(\u001b[0m\u001b[0medge_element\u001b[0m\u001b[0;34m,\u001b[0m \u001b[0medge_data\u001b[0m\u001b[0;34m)\u001b[0m\u001b[0;34m\u001b[0m\u001b[0;34m\u001b[0m\u001b[0m\n\u001b[1;32m    438\u001b[0m             \u001b[0medge_data\u001b[0m \u001b[0;34m=\u001b[0m \u001b[0mself\u001b[0m\u001b[0;34m.\u001b[0m\u001b[0madd_viz\u001b[0m\u001b[0;34m(\u001b[0m\u001b[0medge_element\u001b[0m\u001b[0;34m,\u001b[0m \u001b[0medge_data\u001b[0m\u001b[0;34m)\u001b[0m\u001b[0;34m\u001b[0m\u001b[0;34m\u001b[0m\u001b[0m\n\u001b[0;32m--> 439\u001b[0;31m             \u001b[0medge_data\u001b[0m \u001b[0;34m=\u001b[0m \u001b[0mself\u001b[0m\u001b[0;34m.\u001b[0m\u001b[0madd_attributes\u001b[0m\u001b[0;34m(\u001b[0m\u001b[0;34m\"edge\"\u001b[0m\u001b[0;34m,\u001b[0m \u001b[0medge_element\u001b[0m\u001b[0;34m,\u001b[0m \u001b[0medge_data\u001b[0m\u001b[0;34m,\u001b[0m \u001b[0mdefault\u001b[0m\u001b[0;34m)\u001b[0m\u001b[0;34m\u001b[0m\u001b[0;34m\u001b[0m\u001b[0m\n\u001b[0m\u001b[1;32m    440\u001b[0m             \u001b[0medges_element\u001b[0m\u001b[0;34m.\u001b[0m\u001b[0mappend\u001b[0m\u001b[0;34m(\u001b[0m\u001b[0medge_element\u001b[0m\u001b[0;34m)\u001b[0m\u001b[0;34m\u001b[0m\u001b[0;34m\u001b[0m\u001b[0m\n\u001b[1;32m    441\u001b[0m         \u001b[0mgraph_element\u001b[0m\u001b[0;34m.\u001b[0m\u001b[0mappend\u001b[0m\u001b[0;34m(\u001b[0m\u001b[0medges_element\u001b[0m\u001b[0;34m)\u001b[0m\u001b[0;34m\u001b[0m\u001b[0;34m\u001b[0m\u001b[0m\n",
      "\u001b[0;32m/usr/local/lib/python3.8/dist-packages/networkx/readwrite/gexf.py\u001b[0m in \u001b[0;36madd_attributes\u001b[0;34m(self, node_or_edge, xml_obj, data, default)\u001b[0m\n\u001b[1;32m    456\u001b[0m             \u001b[0;32mif\u001b[0m \u001b[0misinstance\u001b[0m\u001b[0;34m(\u001b[0m\u001b[0mv\u001b[0m\u001b[0;34m,\u001b[0m \u001b[0mlist\u001b[0m\u001b[0;34m)\u001b[0m\u001b[0;34m:\u001b[0m\u001b[0;34m\u001b[0m\u001b[0;34m\u001b[0m\u001b[0m\n\u001b[1;32m    457\u001b[0m                 \u001b[0;31m# dynamic data\u001b[0m\u001b[0;34m\u001b[0m\u001b[0;34m\u001b[0m\u001b[0;34m\u001b[0m\u001b[0m\n\u001b[0;32m--> 458\u001b[0;31m                 \u001b[0;32mfor\u001b[0m \u001b[0mval\u001b[0m\u001b[0;34m,\u001b[0m \u001b[0mstart\u001b[0m\u001b[0;34m,\u001b[0m \u001b[0mend\u001b[0m \u001b[0;32min\u001b[0m \u001b[0mv\u001b[0m\u001b[0;34m:\u001b[0m\u001b[0;34m\u001b[0m\u001b[0;34m\u001b[0m\u001b[0m\n\u001b[0m\u001b[1;32m    459\u001b[0m                     \u001b[0mval_type\u001b[0m \u001b[0;34m=\u001b[0m \u001b[0mtype\u001b[0m\u001b[0;34m(\u001b[0m\u001b[0mval\u001b[0m\u001b[0;34m)\u001b[0m\u001b[0;34m\u001b[0m\u001b[0;34m\u001b[0m\u001b[0m\n\u001b[1;32m    460\u001b[0m                     \u001b[0;32mif\u001b[0m \u001b[0mstart\u001b[0m \u001b[0;32mis\u001b[0m \u001b[0;32mnot\u001b[0m \u001b[0;32mNone\u001b[0m \u001b[0;32mor\u001b[0m \u001b[0mend\u001b[0m \u001b[0;32mis\u001b[0m \u001b[0;32mnot\u001b[0m \u001b[0;32mNone\u001b[0m\u001b[0;34m:\u001b[0m\u001b[0;34m\u001b[0m\u001b[0;34m\u001b[0m\u001b[0m\n",
      "\u001b[0;31mTypeError\u001b[0m: cannot unpack non-iterable int object"
     ]
    }
   ],
   "source": [
    "nx.write_gexf(G, \"g2.xml\")\n"
   ]
  },
  {
   "cell_type": "code",
   "execution_count": null,
   "metadata": {},
   "outputs": [],
   "source": []
  }
 ]
}