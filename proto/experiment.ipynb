{
 "metadata": {
  "language_info": {
   "codemirror_mode": {
    "name": "ipython",
    "version": 3
   },
   "file_extension": ".py",
   "mimetype": "text/x-python",
   "name": "python",
   "nbconvert_exporter": "python",
   "pygments_lexer": "ipython3",
   "version": "3.8.5"
  },
  "orig_nbformat": 2,
  "kernelspec": {
   "name": "python385jvsc74a57bd031f2aee4e71d21fbe5cf8b01ff0e069b9275f58929596ceb00d14d90e3e16cd6",
   "display_name": "Python 3.8.5 64-bit"
  },
  "metadata": {
   "interpreter": {
    "hash": "31f2aee4e71d21fbe5cf8b01ff0e069b9275f58929596ceb00d14d90e3e16cd6"
   }
  }
 },
 "nbformat": 4,
 "nbformat_minor": 2,
 "cells": [
  {
   "cell_type": "code",
   "execution_count": 1,
   "metadata": {},
   "outputs": [],
   "source": [
    "from greedy import *"
   ]
  },
  {
   "cell_type": "code",
   "execution_count": 9,
   "metadata": {},
   "outputs": [],
   "source": [
    "G, latitudes, longitudes = generate_low_degree_g(num_nodes=100)\n"
   ]
  },
  {
   "cell_type": "code",
   "execution_count": 24,
   "metadata": {},
   "outputs": [
    {
     "output_type": "execute_result",
     "data": {
      "text/plain": [
       "21"
      ]
     },
     "metadata": {},
     "execution_count": 24
    }
   ],
   "source": [
    "list(G.out_edges(2))[2][1]\n"
   ]
  },
  {
   "cell_type": "code",
   "execution_count": 11,
   "metadata": {},
   "outputs": [
    {
     "output_type": "execute_result",
     "data": {
      "text/plain": [
       "5.395781572545246"
      ]
     },
     "metadata": {},
     "execution_count": 11
    }
   ],
   "source": [
    "nx.get_node_attributes(G, 'x')[0]"
   ]
  },
  {
   "cell_type": "code",
   "execution_count": 12,
   "metadata": {},
   "outputs": [],
   "source": [
    "# num_nodes=100\n",
    "\n",
    "# G = nx.DiGraph()\n",
    "\n",
    "# node_range = range(0, num_nodes)\n",
    "# G.add_nodes_from(node_range)\n",
    "\n",
    "\n"
   ]
  },
  {
   "cell_type": "code",
   "execution_count": 13,
   "metadata": {},
   "outputs": [],
   "source": [
    "# latitudes = np.random.uniform(0, 10, size=num_nodes)\n",
    "# longitudes = np.random.uniform(0, 10, size=num_nodes)\n",
    "\n",
    "# lat_dict=dict(zip(node_range, latitudes))\n",
    "# lon_dict=dict(zip(node_range, longitudes))\n",
    "# nx.set_node_attributes(G, values=lat_dict, name=\"y\")\n",
    "# nx.set_node_attributes(G, values=lon_dict, name=\"x\")"
   ]
  },
  {
   "cell_type": "code",
   "execution_count": 14,
   "metadata": {},
   "outputs": [
    {
     "output_type": "execute_result",
     "data": {
      "text/plain": [
       "NodeDataView({0: {'y': 9.650100648652604, 'x': 5.395781572545246}, 1: {'y': 5.583995366186184, 'x': 7.653673677140338}, 2: {'y': 9.09823991173758, 'x': 7.819561183076854}, 3: {'y': 6.165467494536019, 'x': 2.8695316613207256}, 4: {'y': 5.195059724325106, 'x': 7.5961881640905276}, 5: {'y': 3.761229782289642, 'x': 6.250127793807993}, 6: {'y': 5.3000650232516575, 'x': 4.401232227008174}, 7: {'y': 6.32011244811005, 'x': 6.768623407526187}, 8: {'y': 0.5888378852977094, 'x': 4.732708830282118}, 9: {'y': 7.264132143487476, 'x': 2.450466068140491}, 10: {'y': 8.54778906893079, 'x': 5.2834941060307985}, 11: {'y': 8.452137548829386, 'x': 5.462496437879088}, 12: {'y': 7.333690034143709, 'x': 4.650435062800212}, 13: {'y': 7.5433560909134325, 'x': 5.916912075935783}, 14: {'y': 2.6273475504901045, 'x': 3.547884747850958}, 15: {'y': 5.103331644215709, 'x': 5.343056661343737}, 16: {'y': 9.626274718708185, 'x': 2.040174881910457}, 17: {'y': 0.49696853914679484, 'x': 4.370224373031527}, 18: {'y': 3.4491816211623405, 'x': 5.664009055792667}, 19: {'y': 9.608887283968855, 'x': 1.4179263631597194}, 20: {'y': 8.37344813525389, 'x': 6.280549099530919}, 21: {'y': 5.358127548207094, 'x': 6.933275502189802}, 22: {'y': 6.924127706828647, 'x': 8.963893952173626}, 23: {'y': 3.6222192494585235, 'x': 3.483329377822677}, 24: {'y': 5.156633258360463, 'x': 3.3733694484672383}, 25: {'y': 0.740830004507359, 'x': 9.555960541272118}, 26: {'y': 8.726591254487989, 'x': 0.950069376228948}, 27: {'y': 8.780345728007937, 'x': 3.6443480531578976}, 28: {'y': 6.101121793582082, 'x': 0.5504880960512837}, 29: {'y': 9.197606494707182, 'x': 2.1820352095896256}, 30: {'y': 6.023123104993534, 'x': 2.428060063730805}, 31: {'y': 7.9247094055942515, 'x': 4.386124742446636}, 32: {'y': 0.40904243450268774, 'x': 5.405860565360471}, 33: {'y': 2.3609655304832824, 'x': 4.046192235717655}, 34: {'y': 5.663435010121929, 'x': 7.755446874243478}, 35: {'y': 3.3244219639116768, 'x': 2.8907105491814447}, 36: {'y': 4.181384348180854, 'x': 0.565159932139363}, 37: {'y': 3.8809281431273512, 'x': 9.381100006546387}, 38: {'y': 3.5772760038426696, 'x': 5.803135406005358}, 39: {'y': 2.1212852849771124, 'x': 8.231246077659575}, 40: {'y': 1.9206447560169604, 'x': 3.869360507234986}, 41: {'y': 8.029016288331945, 'x': 2.6381388603756473}, 42: {'y': 3.244855599215073, 'x': 2.0996654043758154}, 43: {'y': 3.543811937069148, 'x': 5.341972211640722}, 44: {'y': 9.027738273941065, 'x': 4.1021351286583}, 45: {'y': 7.9443496048859155, 'x': 4.56089139054864}, 46: {'y': 5.545122630418592, 'x': 6.949234372407145}, 47: {'y': 0.9412668240976818, 'x': 1.9034902685726662}, 48: {'y': 0.5138302095723912, 'x': 3.165737466669908}, 49: {'y': 5.76838988111059, 'x': 7.904126540299806}, 50: {'y': 4.418213292901099, 'x': 1.0380068674003784}, 51: {'y': 5.037350415376407, 'x': 6.99218528057361}, 52: {'y': 7.542358071126163, 'x': 8.249070245298585}, 53: {'y': 6.44296635484211, 'x': 2.711316531696999}, 54: {'y': 6.72219901408168, 'x': 4.074079993830539}, 55: {'y': 1.026905637019211, 'x': 3.52756395468805}, 56: {'y': 6.363789268094587, 'x': 6.8615049443438}, 57: {'y': 4.993457910631615, 'x': 4.3049715601216985}, 58: {'y': 0.3232437623514317, 'x': 0.7354323098585169}, 59: {'y': 2.448217076569783, 'x': 3.5521100736139966}, 60: {'y': 7.5811489274353105, 'x': 3.136704258005171}, 61: {'y': 6.646169272597145, 'x': 3.037936969664068}, 62: {'y': 3.916213316491013, 'x': 7.947032528121642}, 63: {'y': 0.7761593626391217, 'x': 7.263723009699974}, 64: {'y': 6.818803449073645, 'x': 3.675509060172902}, 65: {'y': 2.166692035759924, 'x': 7.883628440493457}, 66: {'y': 8.936578312409479, 'x': 7.540256082653825}, 67: {'y': 9.36602246916115, 'x': 7.275521732655146}, 68: {'y': 8.629600485409938, 'x': 6.807893242261278}, 69: {'y': 9.226843043267875, 'x': 2.131003784547926}, 70: {'y': 3.7845993361811403, 'x': 6.243911085633123}, 71: {'y': 5.747056392250967, 'x': 2.6947343032324955}, 72: {'y': 4.482107328754525, 'x': 2.2328854739547777}, 73: {'y': 4.4337855942426705, 'x': 2.3676636034444165}, 74: {'y': 8.710383906264743, 'x': 1.6454989187120839}, 75: {'y': 7.209192093549199, 'x': 2.7581134311282574}, 76: {'y': 3.9411130608748057, 'x': 6.62792365106408}, 77: {'y': 6.42171410069523, 'x': 0.6674881528818777}, 78: {'y': 4.395138170077205, 'x': 6.620295541391697}, 79: {'y': 6.720262084405792, 'x': 1.0205329474262326}, 80: {'y': 1.392543702536445, 'x': 7.401329249596302}, 81: {'y': 5.351011908395128, 'x': 5.238889878348171}, 82: {'y': 6.049407066833961, 'x': 0.19527833159649344}, 83: {'y': 2.3538644700556253, 'x': 4.237145238767299}, 84: {'y': 8.707127152318082, 'x': 6.301116855900496}, 85: {'y': 8.40522523109044, 'x': 6.9807397149121355}, 86: {'y': 2.467146441466336, 'x': 4.930983154224531}, 87: {'y': 7.781188344455737, 'x': 8.567314598763483}, 88: {'y': 2.342298633375389, 'x': 8.566211356669161}, 89: {'y': 7.492866791615382, 'x': 6.582826217321497}, 90: {'y': 9.459575813788398, 'x': 6.0150133043850165}, 91: {'y': 0.4527419410873401, 'x': 7.849126279595698}, 92: {'y': 1.6767031190144244, 'x': 3.1034790488747968}, 93: {'y': 7.2570559604387785, 'x': 4.121353762166745}, 94: {'y': 9.022138167486698, 'x': 9.744231161740307}, 95: {'y': 1.98578516223473, 'x': 5.306400254954844}, 96: {'y': 5.517074744967455, 'x': 3.58186902391381}, 97: {'y': 5.1804526398864335, 'x': 0.9642446777033398}, 98: {'y': 6.924595780818573, 'x': 9.609454957275556}, 99: {'y': 2.982757395375245, 'x': 4.184290955624707}})"
      ]
     },
     "metadata": {},
     "execution_count": 14
    }
   ],
   "source": [
    "G.nodes.data()"
   ]
  },
  {
   "cell_type": "code",
   "execution_count": 15,
   "metadata": {
    "tags": []
   },
   "outputs": [],
   "source": [
    "X, y = generate_dataset_shortest(G, latitudes, latitudes)"
   ]
  },
  {
   "cell_type": "code",
   "execution_count": 16,
   "metadata": {},
   "outputs": [
    {
     "output_type": "stream",
     "name": "stderr",
     "text": [
      "WARNING:root:Already bound, ignoring bind()\n",
      "/usr/local/lib/python3.8/dist-packages/mxnet/module/base_module.py:501: UserWarning: Parameters already initialized and force_init=False. init_params call ignored.\n",
      "  self.init_params(initializer=initializer, arg_params=arg_params, aux_params=aux_params,\n",
      "INFO:root:Epoch[0] Batch [0-10]\tSpeed: 6738.43 samples/sec\taccuracy=0.413636\n",
      "INFO:root:Epoch[0] Batch [10-20]\tSpeed: 5878.66 samples/sec\taccuracy=0.405000\n",
      "INFO:root:Epoch[0] Batch [20-30]\tSpeed: 5329.42 samples/sec\taccuracy=0.355000\n",
      "INFO:root:Epoch[0] Batch [30-40]\tSpeed: 5230.23 samples/sec\taccuracy=0.395000\n",
      "INFO:root:Epoch[0] Batch [40-50]\tSpeed: 4300.84 samples/sec\taccuracy=0.400000\n",
      "INFO:root:Epoch[0] Batch [50-60]\tSpeed: 4544.28 samples/sec\taccuracy=0.420000\n",
      "INFO:root:Epoch[0] Batch [60-70]\tSpeed: 6153.89 samples/sec\taccuracy=0.365000\n",
      "INFO:root:Epoch[0] Batch [70-80]\tSpeed: 5357.19 samples/sec\taccuracy=0.485000\n",
      "INFO:root:Epoch[0] Batch [80-90]\tSpeed: 5176.75 samples/sec\taccuracy=0.425000\n",
      "INFO:root:Epoch[0] Batch [90-100]\tSpeed: 6084.04 samples/sec\taccuracy=0.405000\n",
      "INFO:root:Epoch[0] Batch [100-110]\tSpeed: 3770.92 samples/sec\taccuracy=0.470000\n",
      "INFO:root:Epoch[0] Batch [110-120]\tSpeed: 4337.44 samples/sec\taccuracy=0.405000\n",
      "INFO:root:Epoch[0] Batch [120-130]\tSpeed: 4682.76 samples/sec\taccuracy=0.370000\n",
      "INFO:root:Epoch[0] Batch [130-140]\tSpeed: 3309.66 samples/sec\taccuracy=0.420000\n",
      "INFO:root:Epoch[0] Batch [140-150]\tSpeed: 4134.48 samples/sec\taccuracy=0.390000\n",
      "INFO:root:Epoch[0] Batch [150-160]\tSpeed: 4059.33 samples/sec\taccuracy=0.400000\n",
      "INFO:root:Epoch[0] Batch [160-170]\tSpeed: 2917.98 samples/sec\taccuracy=0.455000\n",
      "INFO:root:Epoch[0] Batch [170-180]\tSpeed: 3990.11 samples/sec\taccuracy=0.440000\n",
      "INFO:root:Epoch[0] Batch [180-190]\tSpeed: 4146.47 samples/sec\taccuracy=0.465000\n",
      "INFO:root:Epoch[0] Batch [190-200]\tSpeed: 2536.44 samples/sec\taccuracy=0.425000\n",
      "INFO:root:Epoch[0] Batch [200-210]\tSpeed: 4196.78 samples/sec\taccuracy=0.460000\n",
      "INFO:root:Epoch[0] Batch [210-220]\tSpeed: 4856.85 samples/sec\taccuracy=0.465000\n",
      "INFO:root:Epoch[0] Batch [220-230]\tSpeed: 2493.76 samples/sec\taccuracy=0.430000\n",
      "INFO:root:Epoch[0] Batch [230-240]\tSpeed: 4615.90 samples/sec\taccuracy=0.435000\n",
      "INFO:root:Epoch[0] Batch [240-250]\tSpeed: 3952.40 samples/sec\taccuracy=0.475000\n",
      "INFO:root:Epoch[0] Batch [250-260]\tSpeed: 4388.24 samples/sec\taccuracy=0.470000\n",
      "INFO:root:Epoch[0] Batch [260-270]\tSpeed: 4189.84 samples/sec\taccuracy=0.460000\n",
      "INFO:root:Epoch[0] Batch [270-280]\tSpeed: 4227.98 samples/sec\taccuracy=0.435000\n",
      "INFO:root:Epoch[0] Batch [280-290]\tSpeed: 3853.91 samples/sec\taccuracy=0.445000\n",
      "INFO:root:Epoch[0] Batch [290-300]\tSpeed: 5547.25 samples/sec\taccuracy=0.485000\n",
      "INFO:root:Epoch[0] Batch [300-310]\tSpeed: 3578.24 samples/sec\taccuracy=0.480000\n",
      "INFO:root:Epoch[0] Batch [310-320]\tSpeed: 5079.48 samples/sec\taccuracy=0.520000\n",
      "INFO:root:Epoch[0] Batch [320-330]\tSpeed: 4923.82 samples/sec\taccuracy=0.405000\n",
      "INFO:root:Epoch[0] Batch [330-340]\tSpeed: 4463.88 samples/sec\taccuracy=0.430000\n",
      "INFO:root:Epoch[0] Batch [340-350]\tSpeed: 6009.42 samples/sec\taccuracy=0.455000\n",
      "INFO:root:Epoch[0] Batch [350-360]\tSpeed: 8171.25 samples/sec\taccuracy=0.500000\n",
      "INFO:root:Epoch[0] Train-accuracy=0.434903\n",
      "INFO:root:Epoch[0] Time cost=1.783\n",
      "INFO:root:Epoch[0] Validation-accuracy=0.469391\n",
      "INFO:root:Epoch[1] Batch [0-10]\tSpeed: 6266.70 samples/sec\taccuracy=0.454545\n",
      "INFO:root:Epoch[1] Batch [10-20]\tSpeed: 5611.78 samples/sec\taccuracy=0.490000\n",
      "INFO:root:Epoch[1] Batch [20-30]\tSpeed: 4717.79 samples/sec\taccuracy=0.505000\n",
      "INFO:root:Epoch[1] Batch [30-40]\tSpeed: 5383.49 samples/sec\taccuracy=0.505000\n",
      "INFO:root:Epoch[1] Batch [40-50]\tSpeed: 2865.28 samples/sec\taccuracy=0.445000\n",
      "INFO:root:Epoch[1] Batch [50-60]\tSpeed: 5104.30 samples/sec\taccuracy=0.445000\n",
      "INFO:root:Epoch[1] Batch [60-70]\tSpeed: 8682.33 samples/sec\taccuracy=0.505000\n",
      "INFO:root:Epoch[1] Batch [70-80]\tSpeed: 4201.49 samples/sec\taccuracy=0.430000\n",
      "INFO:root:Epoch[1] Batch [80-90]\tSpeed: 5941.32 samples/sec\taccuracy=0.450000\n",
      "INFO:root:Epoch[1] Batch [90-100]\tSpeed: 4690.51 samples/sec\taccuracy=0.435000\n",
      "INFO:root:Epoch[1] Batch [100-110]\tSpeed: 3816.73 samples/sec\taccuracy=0.495000\n",
      "INFO:root:Epoch[1] Batch [110-120]\tSpeed: 5021.04 samples/sec\taccuracy=0.440000\n",
      "INFO:root:Epoch[1] Batch [120-130]\tSpeed: 3702.81 samples/sec\taccuracy=0.495000\n",
      "INFO:root:Epoch[1] Batch [130-140]\tSpeed: 4758.23 samples/sec\taccuracy=0.470000\n",
      "INFO:root:Epoch[1] Batch [140-150]\tSpeed: 4672.46 samples/sec\taccuracy=0.465000\n",
      "INFO:root:Epoch[1] Batch [150-160]\tSpeed: 4387.97 samples/sec\taccuracy=0.500000\n",
      "INFO:root:Epoch[1] Batch [160-170]\tSpeed: 3744.65 samples/sec\taccuracy=0.545000\n",
      "INFO:root:Epoch[1] Batch [170-180]\tSpeed: 4640.69 samples/sec\taccuracy=0.490000\n",
      "INFO:root:Epoch[1] Batch [180-190]\tSpeed: 4531.52 samples/sec\taccuracy=0.470000\n",
      "INFO:root:Epoch[1] Batch [190-200]\tSpeed: 5316.51 samples/sec\taccuracy=0.585000\n",
      "INFO:root:Epoch[1] Batch [200-210]\tSpeed: 4452.88 samples/sec\taccuracy=0.490000\n",
      "INFO:root:Epoch[1] Batch [210-220]\tSpeed: 5139.23 samples/sec\taccuracy=0.520000\n",
      "INFO:root:Epoch[1] Batch [220-230]\tSpeed: 4493.58 samples/sec\taccuracy=0.530000\n",
      "INFO:root:Epoch[1] Batch [230-240]\tSpeed: 3703.56 samples/sec\taccuracy=0.485000\n",
      "INFO:root:Epoch[1] Batch [240-250]\tSpeed: 4243.31 samples/sec\taccuracy=0.560000\n",
      "INFO:root:Epoch[1] Batch [250-260]\tSpeed: 3369.76 samples/sec\taccuracy=0.480000\n",
      "INFO:root:Epoch[1] Batch [260-270]\tSpeed: 3435.94 samples/sec\taccuracy=0.495000\n",
      "INFO:root:Epoch[1] Batch [270-280]\tSpeed: 5005.46 samples/sec\taccuracy=0.460000\n",
      "INFO:root:Epoch[1] Batch [280-290]\tSpeed: 5334.40 samples/sec\taccuracy=0.510000\n",
      "INFO:root:Epoch[1] Batch [290-300]\tSpeed: 5594.87 samples/sec\taccuracy=0.495000\n",
      "INFO:root:Epoch[1] Batch [300-310]\tSpeed: 6092.74 samples/sec\taccuracy=0.515000\n",
      "INFO:root:Epoch[1] Batch [310-320]\tSpeed: 7366.70 samples/sec\taccuracy=0.540000\n",
      "INFO:root:Epoch[1] Batch [320-330]\tSpeed: 3305.67 samples/sec\taccuracy=0.520000\n",
      "INFO:root:Epoch[1] Batch [330-340]\tSpeed: 3567.22 samples/sec\taccuracy=0.495000\n",
      "INFO:root:Epoch[1] Batch [340-350]\tSpeed: 2759.80 samples/sec\taccuracy=0.475000\n",
      "INFO:root:Epoch[1] Batch [350-360]\tSpeed: 2154.65 samples/sec\taccuracy=0.505000\n",
      "INFO:root:Epoch[1] Train-accuracy=0.491413\n",
      "INFO:root:Epoch[1] Time cost=1.726\n",
      "INFO:root:Epoch[1] Validation-accuracy=0.476593\n",
      "INFO:root:Epoch[2] Batch [0-10]\tSpeed: 4438.39 samples/sec\taccuracy=0.481818\n",
      "INFO:root:Epoch[2] Batch [10-20]\tSpeed: 4195.04 samples/sec\taccuracy=0.525000\n",
      "INFO:root:Epoch[2] Batch [20-30]\tSpeed: 4836.91 samples/sec\taccuracy=0.450000\n",
      "INFO:root:Epoch[2] Batch [30-40]\tSpeed: 3717.94 samples/sec\taccuracy=0.580000\n",
      "INFO:root:Epoch[2] Batch [40-50]\tSpeed: 1930.58 samples/sec\taccuracy=0.540000\n",
      "INFO:root:Epoch[2] Batch [50-60]\tSpeed: 5518.13 samples/sec\taccuracy=0.505000\n",
      "INFO:root:Epoch[2] Batch [60-70]\tSpeed: 3883.02 samples/sec\taccuracy=0.460000\n",
      "INFO:root:Epoch[2] Batch [70-80]\tSpeed: 3692.43 samples/sec\taccuracy=0.485000\n",
      "INFO:root:Epoch[2] Batch [80-90]\tSpeed: 4297.88 samples/sec\taccuracy=0.525000\n",
      "INFO:root:Epoch[2] Batch [90-100]\tSpeed: 2611.61 samples/sec\taccuracy=0.525000\n",
      "INFO:root:Epoch[2] Batch [100-110]\tSpeed: 907.30 samples/sec\taccuracy=0.530000\n",
      "INFO:root:Epoch[2] Batch [110-120]\tSpeed: 3551.36 samples/sec\taccuracy=0.520000\n",
      "INFO:root:Epoch[2] Batch [120-130]\tSpeed: 4125.82 samples/sec\taccuracy=0.460000\n",
      "INFO:root:Epoch[2] Batch [130-140]\tSpeed: 3695.08 samples/sec\taccuracy=0.530000\n",
      "INFO:root:Epoch[2] Batch [140-150]\tSpeed: 7786.70 samples/sec\taccuracy=0.505000\n",
      "INFO:root:Epoch[2] Batch [150-160]\tSpeed: 7461.51 samples/sec\taccuracy=0.465000\n",
      "INFO:root:Epoch[2] Batch [160-170]\tSpeed: 4894.86 samples/sec\taccuracy=0.515000\n",
      "INFO:root:Epoch[2] Batch [170-180]\tSpeed: 4968.91 samples/sec\taccuracy=0.495000\n",
      "INFO:root:Epoch[2] Batch [180-190]\tSpeed: 2985.24 samples/sec\taccuracy=0.530000\n",
      "INFO:root:Epoch[2] Batch [190-200]\tSpeed: 2709.95 samples/sec\taccuracy=0.515000\n",
      "INFO:root:Epoch[2] Batch [200-210]\tSpeed: 4489.68 samples/sec\taccuracy=0.535000\n",
      "INFO:root:Epoch[2] Batch [210-220]\tSpeed: 4525.87 samples/sec\taccuracy=0.525000\n",
      "INFO:root:Epoch[2] Batch [220-230]\tSpeed: 5015.37 samples/sec\taccuracy=0.510000\n",
      "INFO:root:Epoch[2] Batch [230-240]\tSpeed: 6062.58 samples/sec\taccuracy=0.490000\n",
      "INFO:root:Epoch[2] Batch [240-250]\tSpeed: 5958.11 samples/sec\taccuracy=0.515000\n",
      "INFO:root:Epoch[2] Batch [250-260]\tSpeed: 5449.31 samples/sec\taccuracy=0.505000\n",
      "INFO:root:Epoch[2] Batch [260-270]\tSpeed: 3896.40 samples/sec\taccuracy=0.495000\n",
      "INFO:root:Epoch[2] Batch [270-280]\tSpeed: 4208.44 samples/sec\taccuracy=0.505000\n",
      "INFO:root:Epoch[2] Batch [280-290]\tSpeed: 4700.00 samples/sec\taccuracy=0.550000\n",
      "INFO:root:Epoch[2] Batch [290-300]\tSpeed: 6076.06 samples/sec\taccuracy=0.425000\n",
      "INFO:root:Epoch[2] Batch [300-310]\tSpeed: 5120.31 samples/sec\taccuracy=0.495000\n",
      "INFO:root:Epoch[2] Batch [310-320]\tSpeed: 5249.84 samples/sec\taccuracy=0.475000\n",
      "INFO:root:Epoch[2] Batch [320-330]\tSpeed: 3608.84 samples/sec\taccuracy=0.585000\n",
      "INFO:root:Epoch[2] Batch [330-340]\tSpeed: 3812.62 samples/sec\taccuracy=0.540000\n",
      "INFO:root:Epoch[2] Batch [340-350]\tSpeed: 4070.22 samples/sec\taccuracy=0.590000\n",
      "INFO:root:Epoch[2] Batch [350-360]\tSpeed: 4570.45 samples/sec\taccuracy=0.505000\n",
      "INFO:root:Epoch[2] Train-accuracy=0.510665\n",
      "INFO:root:Epoch[2] Time cost=1.957\n",
      "INFO:root:Epoch[2] Validation-accuracy=0.539197\n",
      "INFO:root:Epoch[3] Batch [0-10]\tSpeed: 4184.91 samples/sec\taccuracy=0.527273\n",
      "INFO:root:Epoch[3] Batch [10-20]\tSpeed: 3287.05 samples/sec\taccuracy=0.515000\n",
      "INFO:root:Epoch[3] Batch [20-30]\tSpeed: 3035.41 samples/sec\taccuracy=0.565000\n",
      "INFO:root:Epoch[3] Batch [30-40]\tSpeed: 2650.69 samples/sec\taccuracy=0.575000\n",
      "INFO:root:Epoch[3] Batch [40-50]\tSpeed: 3481.08 samples/sec\taccuracy=0.510000\n",
      "INFO:root:Epoch[3] Batch [50-60]\tSpeed: 3155.20 samples/sec\taccuracy=0.625000\n",
      "INFO:root:Epoch[3] Batch [60-70]\tSpeed: 3237.34 samples/sec\taccuracy=0.500000\n",
      "INFO:root:Epoch[3] Batch [70-80]\tSpeed: 3851.43 samples/sec\taccuracy=0.470000\n",
      "INFO:root:Epoch[3] Batch [80-90]\tSpeed: 3554.33 samples/sec\taccuracy=0.540000\n",
      "INFO:root:Epoch[3] Batch [90-100]\tSpeed: 4430.61 samples/sec\taccuracy=0.525000\n",
      "INFO:root:Epoch[3] Batch [100-110]\tSpeed: 2919.41 samples/sec\taccuracy=0.510000\n",
      "INFO:root:Epoch[3] Batch [110-120]\tSpeed: 4071.82 samples/sec\taccuracy=0.580000\n",
      "INFO:root:Epoch[3] Batch [120-130]\tSpeed: 2958.06 samples/sec\taccuracy=0.560000\n",
      "INFO:root:Epoch[3] Batch [130-140]\tSpeed: 2612.58 samples/sec\taccuracy=0.525000\n",
      "INFO:root:Epoch[3] Batch [140-150]\tSpeed: 4727.73 samples/sec\taccuracy=0.595000\n",
      "INFO:root:Epoch[3] Batch [150-160]\tSpeed: 2791.59 samples/sec\taccuracy=0.595000\n",
      "INFO:root:Epoch[3] Batch [160-170]\tSpeed: 4335.18 samples/sec\taccuracy=0.535000\n",
      "INFO:root:Epoch[3] Batch [170-180]\tSpeed: 3463.55 samples/sec\taccuracy=0.550000\n",
      "INFO:root:Epoch[3] Batch [180-190]\tSpeed: 5006.75 samples/sec\taccuracy=0.580000\n",
      "INFO:root:Epoch[3] Batch [190-200]\tSpeed: 4234.04 samples/sec\taccuracy=0.530000\n",
      "INFO:root:Epoch[3] Batch [200-210]\tSpeed: 1573.17 samples/sec\taccuracy=0.595000\n",
      "INFO:root:Epoch[3] Batch [210-220]\tSpeed: 3779.32 samples/sec\taccuracy=0.550000\n",
      "INFO:root:Epoch[3] Batch [220-230]\tSpeed: 3689.04 samples/sec\taccuracy=0.535000\n",
      "INFO:root:Epoch[3] Batch [230-240]\tSpeed: 4346.90 samples/sec\taccuracy=0.545000\n",
      "INFO:root:Epoch[3] Batch [240-250]\tSpeed: 4193.23 samples/sec\taccuracy=0.500000\n",
      "INFO:root:Epoch[3] Batch [250-260]\tSpeed: 3573.86 samples/sec\taccuracy=0.500000\n",
      "INFO:root:Epoch[3] Batch [260-270]\tSpeed: 5166.35 samples/sec\taccuracy=0.525000\n",
      "INFO:root:Epoch[3] Batch [270-280]\tSpeed: 6295.58 samples/sec\taccuracy=0.565000\n",
      "INFO:root:Epoch[3] Batch [280-290]\tSpeed: 3830.78 samples/sec\taccuracy=0.585000\n",
      "INFO:root:Epoch[3] Batch [290-300]\tSpeed: 2913.02 samples/sec\taccuracy=0.535000\n",
      "INFO:root:Epoch[3] Batch [300-310]\tSpeed: 4686.50 samples/sec\taccuracy=0.515000\n",
      "INFO:root:Epoch[3] Batch [310-320]\tSpeed: 5262.52 samples/sec\taccuracy=0.480000\n",
      "INFO:root:Epoch[3] Batch [320-330]\tSpeed: 4371.23 samples/sec\taccuracy=0.520000\n",
      "INFO:root:Epoch[3] Batch [330-340]\tSpeed: 2837.82 samples/sec\taccuracy=0.545000\n",
      "INFO:root:Epoch[3] Batch [340-350]\tSpeed: 4202.01 samples/sec\taccuracy=0.590000\n",
      "INFO:root:Epoch[3] Batch [350-360]\tSpeed: 3015.06 samples/sec\taccuracy=0.590000\n",
      "INFO:root:Epoch[3] Train-accuracy=0.544044\n",
      "INFO:root:Epoch[3] Time cost=2.122\n",
      "INFO:root:Epoch[3] Validation-accuracy=0.546814\n",
      "INFO:root:Epoch[4] Batch [0-10]\tSpeed: 4717.34 samples/sec\taccuracy=0.563636\n",
      "INFO:root:Epoch[4] Batch [10-20]\tSpeed: 4615.85 samples/sec\taccuracy=0.550000\n",
      "INFO:root:Epoch[4] Batch [20-30]\tSpeed: 3178.53 samples/sec\taccuracy=0.570000\n",
      "INFO:root:Epoch[4] Batch [30-40]\tSpeed: 3614.19 samples/sec\taccuracy=0.595000\n",
      "INFO:root:Epoch[4] Batch [40-50]\tSpeed: 3312.12 samples/sec\taccuracy=0.510000\n",
      "INFO:root:Epoch[4] Batch [50-60]\tSpeed: 4331.75 samples/sec\taccuracy=0.590000\n",
      "INFO:root:Epoch[4] Batch [60-70]\tSpeed: 4721.14 samples/sec\taccuracy=0.540000\n",
      "INFO:root:Epoch[4] Batch [70-80]\tSpeed: 4280.10 samples/sec\taccuracy=0.550000\n",
      "INFO:root:Epoch[4] Batch [80-90]\tSpeed: 3718.55 samples/sec\taccuracy=0.460000\n",
      "INFO:root:Epoch[4] Batch [90-100]\tSpeed: 6834.17 samples/sec\taccuracy=0.610000\n",
      "INFO:root:Epoch[4] Batch [100-110]\tSpeed: 3555.43 samples/sec\taccuracy=0.540000\n",
      "INFO:root:Epoch[4] Batch [110-120]\tSpeed: 3986.22 samples/sec\taccuracy=0.535000\n",
      "INFO:root:Epoch[4] Batch [120-130]\tSpeed: 3835.93 samples/sec\taccuracy=0.540000\n",
      "INFO:root:Epoch[4] Batch [130-140]\tSpeed: 3511.20 samples/sec\taccuracy=0.555000\n",
      "INFO:root:Epoch[4] Batch [140-150]\tSpeed: 2724.76 samples/sec\taccuracy=0.535000\n",
      "INFO:root:Epoch[4] Batch [150-160]\tSpeed: 4967.14 samples/sec\taccuracy=0.545000\n",
      "INFO:root:Epoch[4] Batch [160-170]\tSpeed: 3415.45 samples/sec\taccuracy=0.515000\n",
      "INFO:root:Epoch[4] Batch [170-180]\tSpeed: 3933.22 samples/sec\taccuracy=0.545000\n",
      "INFO:root:Epoch[4] Batch [180-190]\tSpeed: 4878.77 samples/sec\taccuracy=0.590000\n",
      "INFO:root:Epoch[4] Batch [190-200]\tSpeed: 5034.45 samples/sec\taccuracy=0.525000\n",
      "INFO:root:Epoch[4] Batch [200-210]\tSpeed: 5815.00 samples/sec\taccuracy=0.605000\n",
      "INFO:root:Epoch[4] Batch [210-220]\tSpeed: 5463.86 samples/sec\taccuracy=0.575000\n",
      "INFO:root:Epoch[4] Batch [220-230]\tSpeed: 3989.67 samples/sec\taccuracy=0.580000\n",
      "INFO:root:Epoch[4] Batch [230-240]\tSpeed: 4353.29 samples/sec\taccuracy=0.490000\n",
      "INFO:root:Epoch[4] Batch [240-250]\tSpeed: 3069.79 samples/sec\taccuracy=0.465000\n",
      "INFO:root:Epoch[4] Batch [250-260]\tSpeed: 3324.46 samples/sec\taccuracy=0.550000\n",
      "INFO:root:Epoch[4] Batch [260-270]\tSpeed: 3847.26 samples/sec\taccuracy=0.560000\n",
      "INFO:root:Epoch[4] Batch [270-280]\tSpeed: 2991.60 samples/sec\taccuracy=0.480000\n",
      "INFO:root:Epoch[4] Batch [280-290]\tSpeed: 4825.89 samples/sec\taccuracy=0.500000\n",
      "INFO:root:Epoch[4] Batch [290-300]\tSpeed: 6480.69 samples/sec\taccuracy=0.520000\n",
      "INFO:root:Epoch[4] Batch [300-310]\tSpeed: 3932.04 samples/sec\taccuracy=0.475000\n",
      "INFO:root:Epoch[4] Batch [310-320]\tSpeed: 3452.13 samples/sec\taccuracy=0.600000\n",
      "INFO:root:Epoch[4] Batch [320-330]\tSpeed: 7170.79 samples/sec\taccuracy=0.570000\n",
      "INFO:root:Epoch[4] Batch [330-340]\tSpeed: 4355.73 samples/sec\taccuracy=0.520000\n",
      "INFO:root:Epoch[4] Batch [340-350]\tSpeed: 4224.11 samples/sec\taccuracy=0.550000\n",
      "INFO:root:Epoch[4] Batch [350-360]\tSpeed: 5772.51 samples/sec\taccuracy=0.625000\n",
      "INFO:root:Epoch[4] Train-accuracy=0.545291\n",
      "INFO:root:Epoch[4] Time cost=1.828\n",
      "INFO:root:Epoch[4] Validation-accuracy=0.560249\n"
     ]
    }
   ],
   "source": [
    "X_train, X_test, y_train, y_test = train_test_split(\n",
    "    X, y, train_size=0.8, random_state=42)\n",
    "\n",
    "batch_size = 20\n",
    "\n",
    "train_iter = mx.io.NDArrayIter(X, y, batch_size, shuffle=True)\n",
    "val_iter = mx.io.NDArrayIter(X, y, batch_size=batch_size)\n",
    "\n",
    "logging.getLogger().setLevel(logging.DEBUG)  # logging to stdout\n",
    "model = build_model()\n",
    "model.bind(data_shapes=train_iter.provide_data,\n",
    "            label_shapes=train_iter.provide_label)\n",
    "model.init_params()\n",
    "\n",
    "model.fit(train_iter,  # train data\n",
    "            eval_data=val_iter,  # validation data\n",
    "            optimizer='adam',  # use SGD to train\n",
    "            #               optimizer_params={'learning_rate':0.01, 'momentum': 0.9},\n",
    "            eval_metric='acc',  # report accuracy during training\n",
    "            # output progress for each 100 data batches\n",
    "            batch_end_callback=mx.callback.Speedometer(batch_size, 10),\n",
    "            num_epoch=5)  # train for at most 10 dataset passes"
   ]
  },
  {
   "cell_type": "code",
   "execution_count": 17,
   "metadata": {},
   "outputs": [],
   "source": [
    "src = 1\n",
    "dst = 2"
   ]
  },
  {
   "cell_type": "code",
   "execution_count": 18,
   "metadata": {},
   "outputs": [
    {
     "output_type": "error",
     "ename": "NetworkXNoPath",
     "evalue": "No path to 2.",
     "traceback": [
      "\u001b[0;31m---------------------------------------------------------------------------\u001b[0m",
      "\u001b[0;31mKeyError\u001b[0m                                  Traceback (most recent call last)",
      "\u001b[0;32m/usr/local/lib/python3.8/dist-packages/networkx/algorithms/shortest_paths/weighted.py\u001b[0m in \u001b[0;36mmulti_source_dijkstra\u001b[0;34m(G, sources, target, cutoff, weight)\u001b[0m\n\u001b[1;32m    727\u001b[0m     \u001b[0;32mtry\u001b[0m\u001b[0;34m:\u001b[0m\u001b[0;34m\u001b[0m\u001b[0;34m\u001b[0m\u001b[0m\n\u001b[0;32m--> 728\u001b[0;31m         \u001b[0;32mreturn\u001b[0m \u001b[0;34m(\u001b[0m\u001b[0mdist\u001b[0m\u001b[0;34m[\u001b[0m\u001b[0mtarget\u001b[0m\u001b[0;34m]\u001b[0m\u001b[0;34m,\u001b[0m \u001b[0mpaths\u001b[0m\u001b[0;34m[\u001b[0m\u001b[0mtarget\u001b[0m\u001b[0;34m]\u001b[0m\u001b[0;34m)\u001b[0m\u001b[0;34m\u001b[0m\u001b[0;34m\u001b[0m\u001b[0m\n\u001b[0m\u001b[1;32m    729\u001b[0m     \u001b[0;32mexcept\u001b[0m \u001b[0mKeyError\u001b[0m \u001b[0;32mas\u001b[0m \u001b[0me\u001b[0m\u001b[0;34m:\u001b[0m\u001b[0;34m\u001b[0m\u001b[0;34m\u001b[0m\u001b[0m\n",
      "\u001b[0;31mKeyError\u001b[0m: 2",
      "\nThe above exception was the direct cause of the following exception:\n",
      "\u001b[0;31mNetworkXNoPath\u001b[0m                            Traceback (most recent call last)",
      "\u001b[0;32m<ipython-input-18-10d0a216d7c9>\u001b[0m in \u001b[0;36m<module>\u001b[0;34m\u001b[0m\n\u001b[0;32m----> 1\u001b[0;31m \u001b[0mshortest_path\u001b[0m \u001b[0;34m=\u001b[0m \u001b[0mnx\u001b[0m\u001b[0;34m.\u001b[0m\u001b[0mdijkstra_path\u001b[0m\u001b[0;34m(\u001b[0m\u001b[0mG\u001b[0m\u001b[0;34m,\u001b[0m \u001b[0msrc\u001b[0m\u001b[0;34m,\u001b[0m \u001b[0mdst\u001b[0m\u001b[0;34m)\u001b[0m\u001b[0;34m\u001b[0m\u001b[0;34m\u001b[0m\u001b[0m\n\u001b[0m\u001b[1;32m      2\u001b[0m \u001b[0mprint\u001b[0m\u001b[0;34m(\u001b[0m\u001b[0mshortest_path\u001b[0m\u001b[0;34m)\u001b[0m\u001b[0;34m\u001b[0m\u001b[0;34m\u001b[0m\u001b[0m\n",
      "\u001b[0;32m/usr/local/lib/python3.8/dist-packages/networkx/algorithms/shortest_paths/weighted.py\u001b[0m in \u001b[0;36mdijkstra_path\u001b[0;34m(G, source, target, weight)\u001b[0m\n\u001b[1;32m    155\u001b[0m     \u001b[0msingle_source_dijkstra\u001b[0m\u001b[0;34m(\u001b[0m\u001b[0;34m)\u001b[0m\u001b[0;34m\u001b[0m\u001b[0;34m\u001b[0m\u001b[0m\n\u001b[1;32m    156\u001b[0m     \"\"\"\n\u001b[0;32m--> 157\u001b[0;31m     \u001b[0;34m(\u001b[0m\u001b[0mlength\u001b[0m\u001b[0;34m,\u001b[0m \u001b[0mpath\u001b[0m\u001b[0;34m)\u001b[0m \u001b[0;34m=\u001b[0m \u001b[0msingle_source_dijkstra\u001b[0m\u001b[0;34m(\u001b[0m\u001b[0mG\u001b[0m\u001b[0;34m,\u001b[0m \u001b[0msource\u001b[0m\u001b[0;34m,\u001b[0m \u001b[0mtarget\u001b[0m\u001b[0;34m=\u001b[0m\u001b[0mtarget\u001b[0m\u001b[0;34m,\u001b[0m \u001b[0mweight\u001b[0m\u001b[0;34m=\u001b[0m\u001b[0mweight\u001b[0m\u001b[0;34m)\u001b[0m\u001b[0;34m\u001b[0m\u001b[0;34m\u001b[0m\u001b[0m\n\u001b[0m\u001b[1;32m    158\u001b[0m     \u001b[0;32mreturn\u001b[0m \u001b[0mpath\u001b[0m\u001b[0;34m\u001b[0m\u001b[0;34m\u001b[0m\u001b[0m\n\u001b[1;32m    159\u001b[0m \u001b[0;34m\u001b[0m\u001b[0m\n",
      "\u001b[0;32m/usr/local/lib/python3.8/dist-packages/networkx/algorithms/shortest_paths/weighted.py\u001b[0m in \u001b[0;36msingle_source_dijkstra\u001b[0;34m(G, source, target, cutoff, weight)\u001b[0m\n\u001b[1;32m    462\u001b[0m     \u001b[0msingle_source_bellman_ford\u001b[0m\u001b[0;34m(\u001b[0m\u001b[0;34m)\u001b[0m\u001b[0;34m\u001b[0m\u001b[0;34m\u001b[0m\u001b[0m\n\u001b[1;32m    463\u001b[0m     \"\"\"\n\u001b[0;32m--> 464\u001b[0;31m     return multi_source_dijkstra(\n\u001b[0m\u001b[1;32m    465\u001b[0m         \u001b[0mG\u001b[0m\u001b[0;34m,\u001b[0m \u001b[0;34m{\u001b[0m\u001b[0msource\u001b[0m\u001b[0;34m}\u001b[0m\u001b[0;34m,\u001b[0m \u001b[0mcutoff\u001b[0m\u001b[0;34m=\u001b[0m\u001b[0mcutoff\u001b[0m\u001b[0;34m,\u001b[0m \u001b[0mtarget\u001b[0m\u001b[0;34m=\u001b[0m\u001b[0mtarget\u001b[0m\u001b[0;34m,\u001b[0m \u001b[0mweight\u001b[0m\u001b[0;34m=\u001b[0m\u001b[0mweight\u001b[0m\u001b[0;34m\u001b[0m\u001b[0;34m\u001b[0m\u001b[0m\n\u001b[1;32m    466\u001b[0m     )\n",
      "\u001b[0;32m/usr/local/lib/python3.8/dist-packages/networkx/algorithms/shortest_paths/weighted.py\u001b[0m in \u001b[0;36mmulti_source_dijkstra\u001b[0;34m(G, sources, target, cutoff, weight)\u001b[0m\n\u001b[1;32m    728\u001b[0m         \u001b[0;32mreturn\u001b[0m \u001b[0;34m(\u001b[0m\u001b[0mdist\u001b[0m\u001b[0;34m[\u001b[0m\u001b[0mtarget\u001b[0m\u001b[0;34m]\u001b[0m\u001b[0;34m,\u001b[0m \u001b[0mpaths\u001b[0m\u001b[0;34m[\u001b[0m\u001b[0mtarget\u001b[0m\u001b[0;34m]\u001b[0m\u001b[0;34m)\u001b[0m\u001b[0;34m\u001b[0m\u001b[0;34m\u001b[0m\u001b[0m\n\u001b[1;32m    729\u001b[0m     \u001b[0;32mexcept\u001b[0m \u001b[0mKeyError\u001b[0m \u001b[0;32mas\u001b[0m \u001b[0me\u001b[0m\u001b[0;34m:\u001b[0m\u001b[0;34m\u001b[0m\u001b[0;34m\u001b[0m\u001b[0m\n\u001b[0;32m--> 730\u001b[0;31m         \u001b[0;32mraise\u001b[0m \u001b[0mnx\u001b[0m\u001b[0;34m.\u001b[0m\u001b[0mNetworkXNoPath\u001b[0m\u001b[0;34m(\u001b[0m\u001b[0;34mf\"No path to {target}.\"\u001b[0m\u001b[0;34m)\u001b[0m \u001b[0;32mfrom\u001b[0m \u001b[0me\u001b[0m\u001b[0;34m\u001b[0m\u001b[0;34m\u001b[0m\u001b[0m\n\u001b[0m\u001b[1;32m    731\u001b[0m \u001b[0;34m\u001b[0m\u001b[0m\n\u001b[1;32m    732\u001b[0m \u001b[0;34m\u001b[0m\u001b[0m\n",
      "\u001b[0;31mNetworkXNoPath\u001b[0m: No path to 2."
     ]
    }
   ],
   "source": [
    "shortest_path = nx.dijkstra_path(G, src, dst)\n",
    "print(shortest_path)"
   ]
  },
  {
   "cell_type": "code",
   "execution_count": 18,
   "metadata": {
    "tags": []
   },
   "outputs": [
    {
     "output_type": "stream",
     "name": "stdout",
     "text": [
      "{72, 9}\nSUCCESS. Path=[1, 54, 32, 76, 19, 93, 86, 29, 20, 9, 17, 15, 26, 2]\n"
     ]
    }
   ],
   "source": [
    "\n",
    "\n",
    "path = [src]\n",
    "cur_node = src\n",
    "total_weights = .0\n",
    "\n",
    "while True:\n",
    "    \n",
    "    if len(path) >= G.number_of_nodes():\n",
    "        print(\"FAIL. Path=%s\" % path)\n",
    "        break\n",
    "        # return path, total_weights, False\n",
    "\n",
    "    ###\n",
    "    num_features = 5\n",
    "    input_vec = np.ones(4 * num_features)\n",
    "\n",
    "    for idx, out_edge in enumerate(G.out_edges(cur_node)):\n",
    "        out_edge_dst = out_edge[1]\n",
    "        input_vec[idx] = G.get_edge_data(cur_node, out_edge[1])['weight']\n",
    "        input_vec[idx * num_features] = G.get_edge_data(cur_node, out_edge_dst)['weight']\n",
    "        input_vec[idx * num_features + 1] = latitudes[out_edge_dst]\n",
    "        input_vec[idx * num_features + 2] = longitudes[out_edge_dst]\n",
    "        input_vec[idx * num_features + 3] = dist_eucl(\n",
    "                        longitudes[out_edge_dst], latitudes[out_edge_dst], longitudes[dst], latitudes[dst])\n",
    "        input_vec[idx * num_features + 4] = dist_cos(longitudes[cur_node], latitudes[cur_node], \n",
    "                        longitudes[out_edge_dst], latitudes[out_edge_dst], longitudes[dst], latitudes[dst])\n",
    "\n",
    "    out_neighbors = list(map(lambda t: (t[1], G.get_edge_data(cur_node, t[1])['weight']),  G.out_edges(cur_node)))\n",
    "\n",
    "    pred_idx = np.argmax(model.predict(mx.io.NDArrayIter(\n",
    "        np.array([input_vec]), np.array([0]))).asnumpy()[0])\n",
    "    next_node, weight = out_neighbors[pred_idx]\n",
    "\n",
    "    if next_node in path:\n",
    "        path_set = set(path)\n",
    "        out_neighbors_set = set(map(lambda n: n[0], out_neighbors))\n",
    "        available_out_neighbors = out_neighbors_set - path_set\n",
    "        if len(available_out_neighbors) == 0:\n",
    "            print(\"no available neighbors\")\n",
    "            break\n",
    "        # print(available_out_neighbors)\n",
    "        random_node = random.choice(list(available_out_neighbors))\n",
    "        next_node = random_node\n",
    "        weight = 0 ## TODO fix\n",
    "\n",
    "    # print(\"cur_node=%d, pred_idx=%d, next_node=%d, path=%s\" % (cur_node, pred_idx, next_node, path))\n",
    "    ###\n",
    "\n",
    "    total_weights += weight\n",
    "    path.append(next_node)\n",
    "\n",
    "    if next_node == dst:\n",
    "        print(\"SUCCESS. Path=%s\" % path)\n",
    "        break\n",
    "        # return path, total_weights, True\n",
    "\n",
    "    cur_node = next_node"
   ]
  },
  {
   "cell_type": "code",
   "execution_count": 63,
   "metadata": {
    "tags": []
   },
   "outputs": [],
   "source": [
    "import osmnx as ox\n",
    "\n",
    "ox.config(use_cache=True, log_console=True)\n",
    "\n",
    "# G = ox.graph_from_bbox(-3.68,40.43,-3.67,40.44, network_type=\"drive\")\n",
    "# G = ox.graph_from_point((-3.68,40.431), dist=100, network_type=\"drive\")\n",
    "\n",
    "G = ox.graph_from_xml(\"map.osm\")\n",
    "G_save=G"
   ]
  },
  {
   "cell_type": "code",
   "execution_count": 64,
   "metadata": {},
   "outputs": [],
   "source": [
    "G=G_save"
   ]
  },
  {
   "cell_type": "code",
   "execution_count": 65,
   "metadata": {},
   "outputs": [],
   "source": [
    "highway_include = {'motorway', 'trunk', 'primary', 'secondary', 'tertiary', 'unclassified', 'residential',\n",
    "    'motorway_link', 'trunk_link', 'primary_link', 'secondary_link', 'tertiary_link', 'living_street', 'service', 'road'}"
   ]
  },
  {
   "cell_type": "code",
   "execution_count": 66,
   "metadata": {},
   "outputs": [],
   "source": [
    "edges_to_remove = [(s,d) for s,d,meta in G.edges.data() if 'highway' not in meta] \n",
    "G.remove_edges_from(edges_to_remove)\n",
    "# Twice to deal with bidirectional links\n",
    "edges_to_remove = [(s,d) for s,d,meta in G.edges.data() if 'highway' not in meta] \n",
    "G.remove_edges_from(edges_to_remove)\n",
    "edges_to_remove = [(s,d) for s,d,meta in G.edges.data() if 'highway' not in meta] \n",
    "G.remove_edges_from(edges_to_remove)"
   ]
  },
  {
   "cell_type": "code",
   "execution_count": 67,
   "metadata": {},
   "outputs": [],
   "source": [
    "edges_to_remove = [(s,d) for s,d,meta in G.edges.data() if isinstance(meta['highway'], list) and all(hwy not in highway_include for hwy in meta['highway']) ] \n",
    "G.remove_edges_from(edges_to_remove)\n",
    "edges_to_remove = [(s,d) for s,d,meta in G.edges.data() if isinstance(meta['highway'], list) and all(hwy not in highway_include for hwy in meta['highway']) ] \n",
    "G.remove_edges_from(edges_to_remove)\n",
    "edges_to_remove = [(s,d) for s,d,meta in G.edges.data() if isinstance(meta['highway'], list) and all(hwy not in highway_include for hwy in meta['highway']) ] \n",
    "G.remove_edges_from(edges_to_remove)"
   ]
  },
  {
   "cell_type": "code",
   "execution_count": 68,
   "metadata": {},
   "outputs": [],
   "source": [
    "edges_to_remove = [(s,d) for s,d,meta in G.edges.data() if not isinstance(meta['highway'], list) and meta['highway'] not in highway_include] \n",
    "G.remove_edges_from(edges_to_remove)\n",
    "edges_to_remove = [(s,d) for s,d,meta in G.edges.data() if not isinstance(meta['highway'], list) and meta['highway'] not in highway_include] \n",
    "G.remove_edges_from(edges_to_remove)\n",
    "edges_to_remove = [(s,d) for s,d,meta in G.edges.data() if not isinstance(meta['highway'], list) and meta['highway'] not in highway_include] \n",
    "G.remove_edges_from(edges_to_remove)"
   ]
  },
  {
   "cell_type": "code",
   "execution_count": 69,
   "metadata": {},
   "outputs": [],
   "source": [
    "G.remove_edges_from(edges_to_remove)"
   ]
  },
  {
   "cell_type": "code",
   "execution_count": 74,
   "metadata": {
    "tags": []
   },
   "outputs": [
    {
     "output_type": "error",
     "ename": "KeyError",
     "evalue": "'maxspeed'",
     "traceback": [
      "\u001b[0;31m---------------------------------------------------------------------------\u001b[0m",
      "\u001b[0;31mKeyError\u001b[0m                                  Traceback (most recent call last)",
      "\u001b[0;32m<ipython-input-74-525cd22fdb7b>\u001b[0m in \u001b[0;36m<module>\u001b[0;34m\u001b[0m\n\u001b[1;32m      1\u001b[0m \u001b[0;32mfor\u001b[0m \u001b[0ms\u001b[0m\u001b[0;34m,\u001b[0m\u001b[0md\u001b[0m\u001b[0;34m,\u001b[0m\u001b[0mmeta\u001b[0m \u001b[0;32min\u001b[0m \u001b[0mG\u001b[0m\u001b[0;34m.\u001b[0m\u001b[0medges\u001b[0m\u001b[0;34m.\u001b[0m\u001b[0mdata\u001b[0m\u001b[0;34m(\u001b[0m\u001b[0;34m)\u001b[0m\u001b[0;34m:\u001b[0m\u001b[0;34m\u001b[0m\u001b[0;34m\u001b[0m\u001b[0m\n\u001b[0;32m----> 2\u001b[0;31m     \u001b[0mprint\u001b[0m\u001b[0;34m(\u001b[0m\u001b[0ms\u001b[0m\u001b[0;34m,\u001b[0m\u001b[0md\u001b[0m\u001b[0;34m,\u001b[0m\u001b[0mmeta\u001b[0m\u001b[0;34m[\u001b[0m\u001b[0;34m'maxspeed'\u001b[0m\u001b[0;34m]\u001b[0m\u001b[0;34m)\u001b[0m\u001b[0;34m\u001b[0m\u001b[0;34m\u001b[0m\u001b[0m\n\u001b[0m",
      "\u001b[0;31mKeyError\u001b[0m: 'maxspeed'"
     ]
    }
   ],
   "source": [
    "for s,d,meta in G.edges.data():\n",
    "    print(s,d,meta['maxspeed'])"
   ]
  },
  {
   "cell_type": "code",
   "execution_count": 6,
   "metadata": {},
   "outputs": [],
   "source": [
    "G = ox.add_edge_speeds(G)\n",
    "# G = ox.add_edge_travel_times(G)"
   ]
  },
  {
   "cell_type": "code",
   "execution_count": 26,
   "metadata": {},
   "outputs": [],
   "source": [
    "\n",
    "def add_edge_weights(G):\n",
    "    n = G.number_of_edges()\n",
    "    weight_dict = dict(zip(range(n), np.random.uniform(0, 1, size=n)))\n",
    "    nx.set_edge_attributes(G, 'weight', weight_dict)\n",
    "\n",
    "\n",
    "def add_xy_to_nodes(G):\n",
    "    n = G.number_of_nodes()\n",
    "    lat_dict = dict(zip(range(n), np.random.uniform(0, 10, size=n)))\n",
    "    lon_dict = dict(zip(range(n), np.random.uniform(0, 10, size=n)))\n",
    "    nx.set_node_attributes(G, values=lat_dict, name=\"y\")\n",
    "    nx.set_node_attributes(G, values=lon_dict, name=\"x\")\n",
    "\n",
    "G = nx.path_graph(5, create_using=nx.DiGraph())\n",
    "add_xy_to_nodes(G)"
   ]
  },
  {
   "cell_type": "code",
   "execution_count": 39,
   "metadata": {},
   "outputs": [],
   "source": [
    "weight_dict = {}\n",
    "for edge in G.edges:\n",
    "    weight_dict[edge] = np.random.uniform(0, 1)\n",
    "nx.set_edge_attributes(G, weight_dict, 'weight')"
   ]
  },
  {
   "cell_type": "code",
   "execution_count": 40,
   "metadata": {},
   "outputs": [
    {
     "output_type": "execute_result",
     "data": {
      "text/plain": [
       "OutEdgeDataView([(0, 1, {'weight': 0.76844977937785}), (1, 2, {'weight': 0.9988875790351}), (2, 3, {'weight': 0.7170747144383658}), (3, 4, {'weight': 0.9814882324293592})])"
      ]
     },
     "metadata": {},
     "execution_count": 40
    }
   ],
   "source": [
    "G.edges.data()"
   ]
  },
  {
   "cell_type": "code",
   "execution_count": 41,
   "metadata": {},
   "outputs": [
    {
     "output_type": "execute_result",
     "data": {
      "text/plain": [
       "[0, 1, 2, 3, 4]"
      ]
     },
     "metadata": {},
     "execution_count": 41
    }
   ],
   "source": [
    "nx.astar_path(G, 0, 4)"
   ]
  },
  {
   "cell_type": "code",
   "execution_count": 51,
   "metadata": {},
   "outputs": [
    {
     "output_type": "execute_result",
     "data": {
      "text/plain": [
       "2"
      ]
     },
     "metadata": {},
     "execution_count": 51
    }
   ],
   "source": [
    "random.choice(list(G.nodes))"
   ]
  },
  {
   "cell_type": "code",
   "execution_count": 58,
   "metadata": {},
   "outputs": [
    {
     "output_type": "execute_result",
     "data": {
      "text/plain": [
       "OutEdgeDataView([(1, 2)])"
      ]
     },
     "metadata": {},
     "execution_count": 58
    }
   ],
   "source": [
    "G.out_edges(1)"
   ]
  },
  {
   "cell_type": "code",
   "execution_count": 65,
   "metadata": {},
   "outputs": [
    {
     "output_type": "error",
     "ename": "ValueError",
     "evalue": "4 is not in list",
     "traceback": [
      "\u001b[0;31m---------------------------------------------------------------------------\u001b[0m",
      "\u001b[0;31mValueError\u001b[0m                                Traceback (most recent call last)",
      "\u001b[0;32m<ipython-input-65-835adb820430>\u001b[0m in \u001b[0;36m<module>\u001b[0;34m\u001b[0m\n\u001b[0;32m----> 1\u001b[0;31m \u001b[0mlist\u001b[0m\u001b[0;34m(\u001b[0m\u001b[0mmap\u001b[0m\u001b[0;34m(\u001b[0m\u001b[0;32mlambda\u001b[0m \u001b[0mt\u001b[0m\u001b[0;34m:\u001b[0m  \u001b[0mt\u001b[0m\u001b[0;34m[\u001b[0m\u001b[0;36m1\u001b[0m\u001b[0;34m]\u001b[0m\u001b[0;34m,\u001b[0m \u001b[0mG\u001b[0m\u001b[0;34m.\u001b[0m\u001b[0mout_edges\u001b[0m\u001b[0;34m(\u001b[0m\u001b[0;36m2\u001b[0m\u001b[0;34m)\u001b[0m\u001b[0;34m)\u001b[0m\u001b[0;34m)\u001b[0m\u001b[0;34m.\u001b[0m\u001b[0mindex\u001b[0m\u001b[0;34m(\u001b[0m\u001b[0;36m4\u001b[0m\u001b[0;34m)\u001b[0m\u001b[0;34m\u001b[0m\u001b[0;34m\u001b[0m\u001b[0m\n\u001b[0m\u001b[1;32m      2\u001b[0m \u001b[0;34m\u001b[0m\u001b[0m\n",
      "\u001b[0;31mValueError\u001b[0m: 4 is not in list"
     ]
    }
   ],
   "source": [
    "list(map(lambda t:  t[1], G.out_edges(2))).index(4)\n",
    "\n"
   ]
  },
  {
   "cell_type": "code",
   "execution_count": 62,
   "metadata": {},
   "outputs": [
    {
     "output_type": "execute_result",
     "data": {
      "text/plain": [
       "0"
      ]
     },
     "metadata": {},
     "execution_count": 62
    }
   ],
   "source": [
    "m.index(2)"
   ]
  },
  {
   "cell_type": "code",
   "execution_count": null,
   "metadata": {},
   "outputs": [],
   "source": [
    "origin_point = (37.792896, -122.412325)\n",
    "destination_point = (37.790495, -122.408353)\n",
    "origin_node = ox.get_nearest_node(G, origin_point)\n",
    "destination_node = ox.get_nearest_node(G, destination_point)\n",
    "route = nx.shortest_path(G, origin_node, destination_node, weight='length')\n",
    "fig, ax = ox.plot_graph_route(G, route, origin_point=origin_point, destination_point=destination_point)"
   ]
  }
 ]
}